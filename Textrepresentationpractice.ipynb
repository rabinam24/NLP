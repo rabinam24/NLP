{
  "nbformat": 4,
  "nbformat_minor": 0,
  "metadata": {
    "colab": {
      "provenance": [],
      "toc_visible": true,
      "authorship_tag": "ABX9TyM3hfiWhrlPUkPUdUQKFHga",
      "include_colab_link": true
    },
    "kernelspec": {
      "name": "python3",
      "display_name": "Python 3"
    },
    "language_info": {
      "name": "python"
    }
  },
  "cells": [
    {
      "cell_type": "markdown",
      "metadata": {
        "id": "view-in-github",
        "colab_type": "text"
      },
      "source": [
        "<a href=\"https://colab.research.google.com/github/rabinam24/NLP/blob/main/Textrepresentationpractice.ipynb\" target=\"_parent\"><img src=\"https://colab.research.google.com/assets/colab-badge.svg\" alt=\"Open In Colab\"/></a>"
      ]
    },
    {
      "cell_type": "code",
      "execution_count": 5,
      "metadata": {
        "id": "9kdrHR6ybnRc",
        "colab": {
          "base_uri": "https://localhost:8080/",
          "height": 423
        },
        "outputId": "be676a0f-055c-4aa4-c215-3df5f3cc590f"
      },
      "outputs": [
        {
          "output_type": "execute_result",
          "data": {
            "text/plain": [
              "                                                  review sentiment\n",
              "0      One of the other reviewers has mentioned that ...  positive\n",
              "1      A wonderful little production. <br /><br />The...  positive\n",
              "2      I thought this was a wonderful way to spend ti...  positive\n",
              "3      Basically there's a family where a little boy ...  negative\n",
              "4      Petter Mattei's \"Love in the Time of Money\" is...  positive\n",
              "...                                                  ...       ...\n",
              "49995  I thought this movie did a down right good job...  positive\n",
              "49996  Bad plot, bad dialogue, bad acting, idiotic di...  negative\n",
              "49997  I am a Catholic taught in parochial elementary...  negative\n",
              "49998  I'm going to have to disagree with the previou...  negative\n",
              "49999  No one expects the Star Trek movies to be high...  negative\n",
              "\n",
              "[50000 rows x 2 columns]"
            ],
            "text/html": [
              "\n",
              "  <div id=\"df-d2f6846e-dfaa-4a4c-9711-9378e9c9d873\" class=\"colab-df-container\">\n",
              "    <div>\n",
              "<style scoped>\n",
              "    .dataframe tbody tr th:only-of-type {\n",
              "        vertical-align: middle;\n",
              "    }\n",
              "\n",
              "    .dataframe tbody tr th {\n",
              "        vertical-align: top;\n",
              "    }\n",
              "\n",
              "    .dataframe thead th {\n",
              "        text-align: right;\n",
              "    }\n",
              "</style>\n",
              "<table border=\"1\" class=\"dataframe\">\n",
              "  <thead>\n",
              "    <tr style=\"text-align: right;\">\n",
              "      <th></th>\n",
              "      <th>review</th>\n",
              "      <th>sentiment</th>\n",
              "    </tr>\n",
              "  </thead>\n",
              "  <tbody>\n",
              "    <tr>\n",
              "      <th>0</th>\n",
              "      <td>One of the other reviewers has mentioned that ...</td>\n",
              "      <td>positive</td>\n",
              "    </tr>\n",
              "    <tr>\n",
              "      <th>1</th>\n",
              "      <td>A wonderful little production. &lt;br /&gt;&lt;br /&gt;The...</td>\n",
              "      <td>positive</td>\n",
              "    </tr>\n",
              "    <tr>\n",
              "      <th>2</th>\n",
              "      <td>I thought this was a wonderful way to spend ti...</td>\n",
              "      <td>positive</td>\n",
              "    </tr>\n",
              "    <tr>\n",
              "      <th>3</th>\n",
              "      <td>Basically there's a family where a little boy ...</td>\n",
              "      <td>negative</td>\n",
              "    </tr>\n",
              "    <tr>\n",
              "      <th>4</th>\n",
              "      <td>Petter Mattei's \"Love in the Time of Money\" is...</td>\n",
              "      <td>positive</td>\n",
              "    </tr>\n",
              "    <tr>\n",
              "      <th>...</th>\n",
              "      <td>...</td>\n",
              "      <td>...</td>\n",
              "    </tr>\n",
              "    <tr>\n",
              "      <th>49995</th>\n",
              "      <td>I thought this movie did a down right good job...</td>\n",
              "      <td>positive</td>\n",
              "    </tr>\n",
              "    <tr>\n",
              "      <th>49996</th>\n",
              "      <td>Bad plot, bad dialogue, bad acting, idiotic di...</td>\n",
              "      <td>negative</td>\n",
              "    </tr>\n",
              "    <tr>\n",
              "      <th>49997</th>\n",
              "      <td>I am a Catholic taught in parochial elementary...</td>\n",
              "      <td>negative</td>\n",
              "    </tr>\n",
              "    <tr>\n",
              "      <th>49998</th>\n",
              "      <td>I'm going to have to disagree with the previou...</td>\n",
              "      <td>negative</td>\n",
              "    </tr>\n",
              "    <tr>\n",
              "      <th>49999</th>\n",
              "      <td>No one expects the Star Trek movies to be high...</td>\n",
              "      <td>negative</td>\n",
              "    </tr>\n",
              "  </tbody>\n",
              "</table>\n",
              "<p>50000 rows × 2 columns</p>\n",
              "</div>\n",
              "    <div class=\"colab-df-buttons\">\n",
              "\n",
              "  <div class=\"colab-df-container\">\n",
              "    <button class=\"colab-df-convert\" onclick=\"convertToInteractive('df-d2f6846e-dfaa-4a4c-9711-9378e9c9d873')\"\n",
              "            title=\"Convert this dataframe to an interactive table.\"\n",
              "            style=\"display:none;\">\n",
              "\n",
              "  <svg xmlns=\"http://www.w3.org/2000/svg\" height=\"24px\" viewBox=\"0 -960 960 960\">\n",
              "    <path d=\"M120-120v-720h720v720H120Zm60-500h600v-160H180v160Zm220 220h160v-160H400v160Zm0 220h160v-160H400v160ZM180-400h160v-160H180v160Zm440 0h160v-160H620v160ZM180-180h160v-160H180v160Zm440 0h160v-160H620v160Z\"/>\n",
              "  </svg>\n",
              "    </button>\n",
              "\n",
              "  <style>\n",
              "    .colab-df-container {\n",
              "      display:flex;\n",
              "      gap: 12px;\n",
              "    }\n",
              "\n",
              "    .colab-df-convert {\n",
              "      background-color: #E8F0FE;\n",
              "      border: none;\n",
              "      border-radius: 50%;\n",
              "      cursor: pointer;\n",
              "      display: none;\n",
              "      fill: #1967D2;\n",
              "      height: 32px;\n",
              "      padding: 0 0 0 0;\n",
              "      width: 32px;\n",
              "    }\n",
              "\n",
              "    .colab-df-convert:hover {\n",
              "      background-color: #E2EBFA;\n",
              "      box-shadow: 0px 1px 2px rgba(60, 64, 67, 0.3), 0px 1px 3px 1px rgba(60, 64, 67, 0.15);\n",
              "      fill: #174EA6;\n",
              "    }\n",
              "\n",
              "    .colab-df-buttons div {\n",
              "      margin-bottom: 4px;\n",
              "    }\n",
              "\n",
              "    [theme=dark] .colab-df-convert {\n",
              "      background-color: #3B4455;\n",
              "      fill: #D2E3FC;\n",
              "    }\n",
              "\n",
              "    [theme=dark] .colab-df-convert:hover {\n",
              "      background-color: #434B5C;\n",
              "      box-shadow: 0px 1px 3px 1px rgba(0, 0, 0, 0.15);\n",
              "      filter: drop-shadow(0px 1px 2px rgba(0, 0, 0, 0.3));\n",
              "      fill: #FFFFFF;\n",
              "    }\n",
              "  </style>\n",
              "\n",
              "    <script>\n",
              "      const buttonEl =\n",
              "        document.querySelector('#df-d2f6846e-dfaa-4a4c-9711-9378e9c9d873 button.colab-df-convert');\n",
              "      buttonEl.style.display =\n",
              "        google.colab.kernel.accessAllowed ? 'block' : 'none';\n",
              "\n",
              "      async function convertToInteractive(key) {\n",
              "        const element = document.querySelector('#df-d2f6846e-dfaa-4a4c-9711-9378e9c9d873');\n",
              "        const dataTable =\n",
              "          await google.colab.kernel.invokeFunction('convertToInteractive',\n",
              "                                                    [key], {});\n",
              "        if (!dataTable) return;\n",
              "\n",
              "        const docLinkHtml = 'Like what you see? Visit the ' +\n",
              "          '<a target=\"_blank\" href=https://colab.research.google.com/notebooks/data_table.ipynb>data table notebook</a>'\n",
              "          + ' to learn more about interactive tables.';\n",
              "        element.innerHTML = '';\n",
              "        dataTable['output_type'] = 'display_data';\n",
              "        await google.colab.output.renderOutput(dataTable, element);\n",
              "        const docLink = document.createElement('div');\n",
              "        docLink.innerHTML = docLinkHtml;\n",
              "        element.appendChild(docLink);\n",
              "      }\n",
              "    </script>\n",
              "  </div>\n",
              "\n",
              "\n",
              "<div id=\"df-231cc5c4-1849-4229-aef4-f6fb6e62aae1\">\n",
              "  <button class=\"colab-df-quickchart\" onclick=\"quickchart('df-231cc5c4-1849-4229-aef4-f6fb6e62aae1')\"\n",
              "            title=\"Suggest charts\"\n",
              "            style=\"display:none;\">\n",
              "\n",
              "<svg xmlns=\"http://www.w3.org/2000/svg\" height=\"24px\"viewBox=\"0 0 24 24\"\n",
              "     width=\"24px\">\n",
              "    <g>\n",
              "        <path d=\"M19 3H5c-1.1 0-2 .9-2 2v14c0 1.1.9 2 2 2h14c1.1 0 2-.9 2-2V5c0-1.1-.9-2-2-2zM9 17H7v-7h2v7zm4 0h-2V7h2v10zm4 0h-2v-4h2v4z\"/>\n",
              "    </g>\n",
              "</svg>\n",
              "  </button>\n",
              "\n",
              "<style>\n",
              "  .colab-df-quickchart {\n",
              "      --bg-color: #E8F0FE;\n",
              "      --fill-color: #1967D2;\n",
              "      --hover-bg-color: #E2EBFA;\n",
              "      --hover-fill-color: #174EA6;\n",
              "      --disabled-fill-color: #AAA;\n",
              "      --disabled-bg-color: #DDD;\n",
              "  }\n",
              "\n",
              "  [theme=dark] .colab-df-quickchart {\n",
              "      --bg-color: #3B4455;\n",
              "      --fill-color: #D2E3FC;\n",
              "      --hover-bg-color: #434B5C;\n",
              "      --hover-fill-color: #FFFFFF;\n",
              "      --disabled-bg-color: #3B4455;\n",
              "      --disabled-fill-color: #666;\n",
              "  }\n",
              "\n",
              "  .colab-df-quickchart {\n",
              "    background-color: var(--bg-color);\n",
              "    border: none;\n",
              "    border-radius: 50%;\n",
              "    cursor: pointer;\n",
              "    display: none;\n",
              "    fill: var(--fill-color);\n",
              "    height: 32px;\n",
              "    padding: 0;\n",
              "    width: 32px;\n",
              "  }\n",
              "\n",
              "  .colab-df-quickchart:hover {\n",
              "    background-color: var(--hover-bg-color);\n",
              "    box-shadow: 0 1px 2px rgba(60, 64, 67, 0.3), 0 1px 3px 1px rgba(60, 64, 67, 0.15);\n",
              "    fill: var(--button-hover-fill-color);\n",
              "  }\n",
              "\n",
              "  .colab-df-quickchart-complete:disabled,\n",
              "  .colab-df-quickchart-complete:disabled:hover {\n",
              "    background-color: var(--disabled-bg-color);\n",
              "    fill: var(--disabled-fill-color);\n",
              "    box-shadow: none;\n",
              "  }\n",
              "\n",
              "  .colab-df-spinner {\n",
              "    border: 2px solid var(--fill-color);\n",
              "    border-color: transparent;\n",
              "    border-bottom-color: var(--fill-color);\n",
              "    animation:\n",
              "      spin 1s steps(1) infinite;\n",
              "  }\n",
              "\n",
              "  @keyframes spin {\n",
              "    0% {\n",
              "      border-color: transparent;\n",
              "      border-bottom-color: var(--fill-color);\n",
              "      border-left-color: var(--fill-color);\n",
              "    }\n",
              "    20% {\n",
              "      border-color: transparent;\n",
              "      border-left-color: var(--fill-color);\n",
              "      border-top-color: var(--fill-color);\n",
              "    }\n",
              "    30% {\n",
              "      border-color: transparent;\n",
              "      border-left-color: var(--fill-color);\n",
              "      border-top-color: var(--fill-color);\n",
              "      border-right-color: var(--fill-color);\n",
              "    }\n",
              "    40% {\n",
              "      border-color: transparent;\n",
              "      border-right-color: var(--fill-color);\n",
              "      border-top-color: var(--fill-color);\n",
              "    }\n",
              "    60% {\n",
              "      border-color: transparent;\n",
              "      border-right-color: var(--fill-color);\n",
              "    }\n",
              "    80% {\n",
              "      border-color: transparent;\n",
              "      border-right-color: var(--fill-color);\n",
              "      border-bottom-color: var(--fill-color);\n",
              "    }\n",
              "    90% {\n",
              "      border-color: transparent;\n",
              "      border-bottom-color: var(--fill-color);\n",
              "    }\n",
              "  }\n",
              "</style>\n",
              "\n",
              "  <script>\n",
              "    async function quickchart(key) {\n",
              "      const quickchartButtonEl =\n",
              "        document.querySelector('#' + key + ' button');\n",
              "      quickchartButtonEl.disabled = true;  // To prevent multiple clicks.\n",
              "      quickchartButtonEl.classList.add('colab-df-spinner');\n",
              "      try {\n",
              "        const charts = await google.colab.kernel.invokeFunction(\n",
              "            'suggestCharts', [key], {});\n",
              "      } catch (error) {\n",
              "        console.error('Error during call to suggestCharts:', error);\n",
              "      }\n",
              "      quickchartButtonEl.classList.remove('colab-df-spinner');\n",
              "      quickchartButtonEl.classList.add('colab-df-quickchart-complete');\n",
              "    }\n",
              "    (() => {\n",
              "      let quickchartButtonEl =\n",
              "        document.querySelector('#df-231cc5c4-1849-4229-aef4-f6fb6e62aae1 button');\n",
              "      quickchartButtonEl.style.display =\n",
              "        google.colab.kernel.accessAllowed ? 'block' : 'none';\n",
              "    })();\n",
              "  </script>\n",
              "</div>\n",
              "\n",
              "  <div id=\"id_0068e06f-d79b-4658-a337-532186a23f38\">\n",
              "    <style>\n",
              "      .colab-df-generate {\n",
              "        background-color: #E8F0FE;\n",
              "        border: none;\n",
              "        border-radius: 50%;\n",
              "        cursor: pointer;\n",
              "        display: none;\n",
              "        fill: #1967D2;\n",
              "        height: 32px;\n",
              "        padding: 0 0 0 0;\n",
              "        width: 32px;\n",
              "      }\n",
              "\n",
              "      .colab-df-generate:hover {\n",
              "        background-color: #E2EBFA;\n",
              "        box-shadow: 0px 1px 2px rgba(60, 64, 67, 0.3), 0px 1px 3px 1px rgba(60, 64, 67, 0.15);\n",
              "        fill: #174EA6;\n",
              "      }\n",
              "\n",
              "      [theme=dark] .colab-df-generate {\n",
              "        background-color: #3B4455;\n",
              "        fill: #D2E3FC;\n",
              "      }\n",
              "\n",
              "      [theme=dark] .colab-df-generate:hover {\n",
              "        background-color: #434B5C;\n",
              "        box-shadow: 0px 1px 3px 1px rgba(0, 0, 0, 0.15);\n",
              "        filter: drop-shadow(0px 1px 2px rgba(0, 0, 0, 0.3));\n",
              "        fill: #FFFFFF;\n",
              "      }\n",
              "    </style>\n",
              "    <button class=\"colab-df-generate\" onclick=\"generateWithVariable('df')\"\n",
              "            title=\"Generate code using this dataframe.\"\n",
              "            style=\"display:none;\">\n",
              "\n",
              "  <svg xmlns=\"http://www.w3.org/2000/svg\" height=\"24px\"viewBox=\"0 0 24 24\"\n",
              "       width=\"24px\">\n",
              "    <path d=\"M7,19H8.4L18.45,9,17,7.55,7,17.6ZM5,21V16.75L18.45,3.32a2,2,0,0,1,2.83,0l1.4,1.43a1.91,1.91,0,0,1,.58,1.4,1.91,1.91,0,0,1-.58,1.4L9.25,21ZM18.45,9,17,7.55Zm-12,3A5.31,5.31,0,0,0,4.9,8.1,5.31,5.31,0,0,0,1,6.5,5.31,5.31,0,0,0,4.9,4.9,5.31,5.31,0,0,0,6.5,1,5.31,5.31,0,0,0,8.1,4.9,5.31,5.31,0,0,0,12,6.5,5.46,5.46,0,0,0,6.5,12Z\"/>\n",
              "  </svg>\n",
              "    </button>\n",
              "    <script>\n",
              "      (() => {\n",
              "      const buttonEl =\n",
              "        document.querySelector('#id_0068e06f-d79b-4658-a337-532186a23f38 button.colab-df-generate');\n",
              "      buttonEl.style.display =\n",
              "        google.colab.kernel.accessAllowed ? 'block' : 'none';\n",
              "\n",
              "      buttonEl.onclick = () => {\n",
              "        google.colab.notebook.generateWithVariable('df');\n",
              "      }\n",
              "      })();\n",
              "    </script>\n",
              "  </div>\n",
              "\n",
              "    </div>\n",
              "  </div>\n"
            ]
          },
          "metadata": {},
          "execution_count": 5
        }
      ],
      "source": [
        "import pandas as pd\n",
        "path= '/content/drive/MyDrive/IMDB Dataset.csv'\n",
        "df =pd.read_csv(path)\n",
        "df\n"
      ]
    },
    {
      "cell_type": "code",
      "source": [
        "df['review']"
      ],
      "metadata": {
        "colab": {
          "base_uri": "https://localhost:8080/"
        },
        "id": "_TKRQvKvdGW2",
        "outputId": "f4e7c8d9-0418-4084-9b19-3ecd29f8cbfe"
      },
      "execution_count": 6,
      "outputs": [
        {
          "output_type": "execute_result",
          "data": {
            "text/plain": [
              "0        One of the other reviewers has mentioned that ...\n",
              "1        A wonderful little production. <br /><br />The...\n",
              "2        I thought this was a wonderful way to spend ti...\n",
              "3        Basically there's a family where a little boy ...\n",
              "4        Petter Mattei's \"Love in the Time of Money\" is...\n",
              "                               ...                        \n",
              "49995    I thought this movie did a down right good job...\n",
              "49996    Bad plot, bad dialogue, bad acting, idiotic di...\n",
              "49997    I am a Catholic taught in parochial elementary...\n",
              "49998    I'm going to have to disagree with the previou...\n",
              "49999    No one expects the Star Trek movies to be high...\n",
              "Name: review, Length: 50000, dtype: object"
            ]
          },
          "metadata": {},
          "execution_count": 6
        }
      ]
    },
    {
      "cell_type": "markdown",
      "source": [
        "# Converting the review to lowercase"
      ],
      "metadata": {
        "id": "vObsIFmgdytZ"
      }
    },
    {
      "cell_type": "code",
      "source": [
        "df['review']= df['review'].str.lower()\n",
        "df['review']"
      ],
      "metadata": {
        "colab": {
          "base_uri": "https://localhost:8080/"
        },
        "id": "OwBEcaFhdWXc",
        "outputId": "921e31cc-f86e-408c-e483-5d2173a3f4f4"
      },
      "execution_count": 7,
      "outputs": [
        {
          "output_type": "execute_result",
          "data": {
            "text/plain": [
              "0        one of the other reviewers has mentioned that ...\n",
              "1        a wonderful little production. <br /><br />the...\n",
              "2        i thought this was a wonderful way to spend ti...\n",
              "3        basically there's a family where a little boy ...\n",
              "4        petter mattei's \"love in the time of money\" is...\n",
              "                               ...                        \n",
              "49995    i thought this movie did a down right good job...\n",
              "49996    bad plot, bad dialogue, bad acting, idiotic di...\n",
              "49997    i am a catholic taught in parochial elementary...\n",
              "49998    i'm going to have to disagree with the previou...\n",
              "49999    no one expects the star trek movies to be high...\n",
              "Name: review, Length: 50000, dtype: object"
            ]
          },
          "metadata": {},
          "execution_count": 7
        }
      ]
    },
    {
      "cell_type": "markdown",
      "source": [
        "# Removing the html part which are present in the sentences in the review"
      ],
      "metadata": {
        "id": "FGtxRNgIeA1N"
      }
    },
    {
      "cell_type": "code",
      "source": [
        "import re\n",
        "def remove_html_tags(text):\n",
        "  pattern = re.compile('<.*?>')\n",
        "  return pattern.sub(r'',text)"
      ],
      "metadata": {
        "id": "wcme4-qteJul"
      },
      "execution_count": 8,
      "outputs": []
    },
    {
      "cell_type": "code",
      "source": [
        "df['review']= df['review'].apply(remove_html_tags)"
      ],
      "metadata": {
        "id": "NOoMZpfHewCM"
      },
      "execution_count": 9,
      "outputs": []
    },
    {
      "cell_type": "code",
      "source": [
        "df['review']\n"
      ],
      "metadata": {
        "colab": {
          "base_uri": "https://localhost:8080/"
        },
        "id": "Nq2EIVnee6b0",
        "outputId": "3688cbb4-4d34-4b0f-f675-d5ec62212a2e"
      },
      "execution_count": 10,
      "outputs": [
        {
          "output_type": "execute_result",
          "data": {
            "text/plain": [
              "0        one of the other reviewers has mentioned that ...\n",
              "1        a wonderful little production. the filming tec...\n",
              "2        i thought this was a wonderful way to spend ti...\n",
              "3        basically there's a family where a little boy ...\n",
              "4        petter mattei's \"love in the time of money\" is...\n",
              "                               ...                        \n",
              "49995    i thought this movie did a down right good job...\n",
              "49996    bad plot, bad dialogue, bad acting, idiotic di...\n",
              "49997    i am a catholic taught in parochial elementary...\n",
              "49998    i'm going to have to disagree with the previou...\n",
              "49999    no one expects the star trek movies to be high...\n",
              "Name: review, Length: 50000, dtype: object"
            ]
          },
          "metadata": {},
          "execution_count": 10
        }
      ]
    },
    {
      "cell_type": "markdown",
      "source": [
        "# Removing the punctuaction present in the sentences"
      ],
      "metadata": {
        "id": "3oiE2xt4gQaJ"
      }
    },
    {
      "cell_type": "code",
      "source": [
        "import string\n",
        "string.punctuation"
      ],
      "metadata": {
        "colab": {
          "base_uri": "https://localhost:8080/",
          "height": 36
        },
        "id": "zf3pv6r_gWIS",
        "outputId": "af025833-5e61-40da-921e-ea9b6266bc96"
      },
      "execution_count": 11,
      "outputs": [
        {
          "output_type": "execute_result",
          "data": {
            "text/plain": [
              "'!\"#$%&\\'()*+,-./:;<=>?@[\\\\]^_`{|}~'"
            ],
            "application/vnd.google.colaboratory.intrinsic+json": {
              "type": "string"
            }
          },
          "metadata": {},
          "execution_count": 11
        }
      ]
    },
    {
      "cell_type": "code",
      "source": [
        "exclude= string.punctuation"
      ],
      "metadata": {
        "id": "obaeLaa6gcrD"
      },
      "execution_count": 12,
      "outputs": []
    },
    {
      "cell_type": "code",
      "source": [
        "def remove_punc(text):\n",
        "  return text.translate(str.maketrans('','',exclude))"
      ],
      "metadata": {
        "id": "xNJthRefgiv2"
      },
      "execution_count": 13,
      "outputs": []
    },
    {
      "cell_type": "code",
      "source": [
        "df['review']= df['review'].apply(remove_punc)"
      ],
      "metadata": {
        "id": "vCuEzqtZg8yi"
      },
      "execution_count": 14,
      "outputs": []
    },
    {
      "cell_type": "code",
      "source": [
        "df['review']"
      ],
      "metadata": {
        "colab": {
          "base_uri": "https://localhost:8080/"
        },
        "id": "6TFgDuvqhDUG",
        "outputId": "10f5b454-2067-4471-9a05-9dd9360c13ea"
      },
      "execution_count": 15,
      "outputs": [
        {
          "output_type": "execute_result",
          "data": {
            "text/plain": [
              "0        one of the other reviewers has mentioned that ...\n",
              "1        a wonderful little production the filming tech...\n",
              "2        i thought this was a wonderful way to spend ti...\n",
              "3        basically theres a family where a little boy j...\n",
              "4        petter matteis love in the time of money is a ...\n",
              "                               ...                        \n",
              "49995    i thought this movie did a down right good job...\n",
              "49996    bad plot bad dialogue bad acting idiotic direc...\n",
              "49997    i am a catholic taught in parochial elementary...\n",
              "49998    im going to have to disagree with the previous...\n",
              "49999    no one expects the star trek movies to be high...\n",
              "Name: review, Length: 50000, dtype: object"
            ]
          },
          "metadata": {},
          "execution_count": 15
        }
      ]
    },
    {
      "cell_type": "markdown",
      "source": [
        "# Bag of words"
      ],
      "metadata": {
        "id": "cgZsV0HLiUN6"
      }
    },
    {
      "cell_type": "code",
      "source": [
        "from sklearn.feature_extraction.text import CountVectorizer\n",
        "cv= CountVectorizer()"
      ],
      "metadata": {
        "id": "LtTF_roGiZCE"
      },
      "execution_count": 16,
      "outputs": []
    },
    {
      "cell_type": "code",
      "source": [
        "bow =cv.fit_transform(df['review'])"
      ],
      "metadata": {
        "id": "B_ya3tW4ibCc"
      },
      "execution_count": 17,
      "outputs": []
    },
    {
      "cell_type": "code",
      "source": [
        "print(len(cv.vocabulary_))"
      ],
      "metadata": {
        "colab": {
          "base_uri": "https://localhost:8080/"
        },
        "id": "L8HlDIODifdY",
        "outputId": "0d0610a3-c9c8-41a2-f6b3-657c92ed95d0"
      },
      "execution_count": 18,
      "outputs": [
        {
          "output_type": "stream",
          "name": "stdout",
          "text": [
            "221438\n"
          ]
        }
      ]
    },
    {
      "cell_type": "code",
      "source": [
        "print(bow[0].toarray())\n",
        "print(bow[1].toarray())"
      ],
      "metadata": {
        "colab": {
          "base_uri": "https://localhost:8080/"
        },
        "id": "0ahUbaUpiiyU",
        "outputId": "ccc7ac50-b151-4745-bc22-ab84a450b691"
      },
      "execution_count": 19,
      "outputs": [
        {
          "output_type": "stream",
          "name": "stdout",
          "text": [
            "[[0 0 0 ... 0 0 0]]\n",
            "[[0 0 0 ... 0 0 0]]\n"
          ]
        }
      ]
    },
    {
      "cell_type": "code",
      "source": [],
      "metadata": {
        "id": "tnRWQh3sizh5"
      },
      "execution_count": 19,
      "outputs": []
    },
    {
      "cell_type": "markdown",
      "source": [
        "# tf-idf"
      ],
      "metadata": {
        "id": "iPa6uan0jd_j"
      }
    },
    {
      "cell_type": "code",
      "source": [
        "df['review']"
      ],
      "metadata": {
        "colab": {
          "base_uri": "https://localhost:8080/"
        },
        "id": "ITSpmw5ijh1J",
        "outputId": "f75b022e-5cb7-4ae1-842e-b6973e343158"
      },
      "execution_count": 20,
      "outputs": [
        {
          "output_type": "execute_result",
          "data": {
            "text/plain": [
              "0        one of the other reviewers has mentioned that ...\n",
              "1        a wonderful little production the filming tech...\n",
              "2        i thought this was a wonderful way to spend ti...\n",
              "3        basically theres a family where a little boy j...\n",
              "4        petter matteis love in the time of money is a ...\n",
              "                               ...                        \n",
              "49995    i thought this movie did a down right good job...\n",
              "49996    bad plot bad dialogue bad acting idiotic direc...\n",
              "49997    i am a catholic taught in parochial elementary...\n",
              "49998    im going to have to disagree with the previous...\n",
              "49999    no one expects the star trek movies to be high...\n",
              "Name: review, Length: 50000, dtype: object"
            ]
          },
          "metadata": {},
          "execution_count": 20
        }
      ]
    },
    {
      "cell_type": "code",
      "source": [
        "from sklearn.feature_extraction.text import TfidfVectorizer\n",
        "tfidf = TfidfVectorizer()\n",
        "tfidf.fit_transform(df['review'].head(5)).toarray()"
      ],
      "metadata": {
        "colab": {
          "base_uri": "https://localhost:8080/"
        },
        "id": "2baH_-kCjnWA",
        "outputId": "d162c0c2-e824-422a-b78b-0d7d568baa2a"
      },
      "execution_count": 21,
      "outputs": [
        {
          "output_type": "execute_result",
          "data": {
            "text/plain": [
              "array([[0.        , 0.03219109, 0.04806708, ..., 0.        , 0.        ,\n",
              "        0.        ],\n",
              "       [0.        , 0.04785764, 0.        , ..., 0.        , 0.        ,\n",
              "        0.        ],\n",
              "       [0.        , 0.        , 0.        , ..., 0.        , 0.        ,\n",
              "        0.        ],\n",
              "       [0.08563591, 0.        , 0.        , ..., 0.08563591, 0.08563591,\n",
              "        0.08563591],\n",
              "       [0.        , 0.07351509, 0.        , ..., 0.        , 0.        ,\n",
              "        0.        ]])"
            ]
          },
          "metadata": {},
          "execution_count": 21
        }
      ]
    },
    {
      "cell_type": "code",
      "source": [
        "print(tfidf.idf_)\n",
        "print(tfidf.get_feature_names_out())"
      ],
      "metadata": {
        "colab": {
          "base_uri": "https://localhost:8080/"
        },
        "id": "oacRRhc_jo4Y",
        "outputId": "d559b418-3d47-423f-e3a8-d1b93c5e7339"
      },
      "execution_count": 22,
      "outputs": [
        {
          "output_type": "stream",
          "name": "stdout",
          "text": [
            "[2.09861229 1.40546511 2.09861229 2.09861229 2.09861229 2.09861229\n",
            " 2.09861229 2.09861229 2.09861229 2.09861229 2.09861229 2.09861229\n",
            " 2.09861229 1.18232156 2.09861229 2.09861229 1.         2.09861229\n",
            " 2.09861229 2.09861229 1.         2.09861229 2.09861229 2.09861229\n",
            " 1.40546511 2.09861229 2.09861229 2.09861229 2.09861229 2.09861229\n",
            " 2.09861229 2.09861229 1.40546511 1.69314718 2.09861229 1.69314718\n",
            " 2.09861229 2.09861229 2.09861229 2.09861229 2.09861229 2.09861229\n",
            " 2.09861229 2.09861229 1.18232156 2.09861229 2.09861229 1.69314718\n",
            " 2.09861229 2.09861229 2.09861229 2.09861229 2.09861229 1.69314718\n",
            " 2.09861229 2.09861229 2.09861229 1.69314718 2.09861229 2.09861229\n",
            " 2.09861229 2.09861229 2.09861229 1.69314718 2.09861229 2.09861229\n",
            " 2.09861229 2.09861229 2.09861229 2.09861229 2.09861229 2.09861229\n",
            " 2.09861229 2.09861229 2.09861229 2.09861229 1.69314718 2.09861229\n",
            " 2.09861229 2.09861229 2.09861229 2.09861229 2.09861229 2.09861229\n",
            " 2.09861229 2.09861229 2.09861229 2.09861229 2.09861229 2.09861229\n",
            " 2.09861229 2.09861229 2.09861229 2.09861229 2.09861229 2.09861229\n",
            " 2.09861229 2.09861229 2.09861229 2.09861229 2.09861229 2.09861229\n",
            " 2.09861229 1.69314718 2.09861229 2.09861229 2.09861229 2.09861229\n",
            " 2.09861229 2.09861229 2.09861229 2.09861229 2.09861229 2.09861229\n",
            " 2.09861229 2.09861229 2.09861229 2.09861229 2.09861229 2.09861229\n",
            " 1.69314718 2.09861229 2.09861229 2.09861229 2.09861229 2.09861229\n",
            " 2.09861229 2.09861229 2.09861229 2.09861229 2.09861229 2.09861229\n",
            " 2.09861229 1.69314718 2.09861229 2.09861229 1.69314718 2.09861229\n",
            " 2.09861229 1.40546511 2.09861229 2.09861229 2.09861229 2.09861229\n",
            " 2.09861229 2.09861229 2.09861229 2.09861229 2.09861229 2.09861229\n",
            " 2.09861229 2.09861229 1.69314718 2.09861229 2.09861229 2.09861229\n",
            " 1.69314718 2.09861229 1.69314718 2.09861229 2.09861229 2.09861229\n",
            " 2.09861229 2.09861229 2.09861229 2.09861229 2.09861229 2.09861229\n",
            " 2.09861229 1.40546511 1.40546511 2.09861229 2.09861229 2.09861229\n",
            " 2.09861229 1.18232156 1.69314718 2.09861229 2.09861229 2.09861229\n",
            " 2.09861229 2.09861229 1.69314718 2.09861229 2.09861229 2.09861229\n",
            " 2.09861229 1.18232156 2.09861229 2.09861229 2.09861229 2.09861229\n",
            " 2.09861229 1.69314718 2.09861229 2.09861229 1.         1.40546511\n",
            " 2.09861229 1.69314718 2.09861229 2.09861229 2.09861229 2.09861229\n",
            " 2.09861229 1.69314718 2.09861229 1.69314718 2.09861229 2.09861229\n",
            " 2.09861229 2.09861229 2.09861229 2.09861229 2.09861229 1.69314718\n",
            " 2.09861229 2.09861229 2.09861229 1.69314718 2.09861229 2.09861229\n",
            " 2.09861229 2.09861229 2.09861229 2.09861229 2.09861229 2.09861229\n",
            " 2.09861229 2.09861229 1.69314718 2.09861229 2.09861229 2.09861229\n",
            " 2.09861229 2.09861229 2.09861229 2.09861229 2.09861229 2.09861229\n",
            " 2.09861229 1.69314718 2.09861229 2.09861229 2.09861229 2.09861229\n",
            " 2.09861229 2.09861229 1.69314718 2.09861229 2.09861229 1.69314718\n",
            " 2.09861229 1.69314718 1.69314718 2.09861229 2.09861229 2.09861229\n",
            " 2.09861229 2.09861229 1.69314718 2.09861229 2.09861229 2.09861229\n",
            " 2.09861229 1.69314718 1.18232156 1.         2.09861229 2.09861229\n",
            " 1.18232156 1.18232156 1.69314718 2.09861229 1.40546511 2.09861229\n",
            " 2.09861229 2.09861229 2.09861229 2.09861229 1.40546511 2.09861229\n",
            " 2.09861229 2.09861229 2.09861229 2.09861229 2.09861229 2.09861229\n",
            " 2.09861229 2.09861229 2.09861229 2.09861229 2.09861229 2.09861229\n",
            " 2.09861229 2.09861229 2.09861229 2.09861229 2.09861229 2.09861229\n",
            " 1.69314718 2.09861229 2.09861229 2.09861229 2.09861229 2.09861229\n",
            " 2.09861229 2.09861229 2.09861229 2.09861229 2.09861229 2.09861229\n",
            " 2.09861229 2.09861229 2.09861229 2.09861229 2.09861229 2.09861229\n",
            " 2.09861229 2.09861229 2.09861229 2.09861229 2.09861229 2.09861229\n",
            " 2.09861229 2.09861229 2.09861229 1.69314718 2.09861229 2.09861229\n",
            " 2.09861229 2.09861229 2.09861229 2.09861229 1.69314718 2.09861229\n",
            " 1.69314718 2.09861229 2.09861229 2.09861229 2.09861229 2.09861229\n",
            " 1.18232156 2.09861229 2.09861229 2.09861229 2.09861229 2.09861229\n",
            " 2.09861229 2.09861229 2.09861229 2.09861229 2.09861229 2.09861229\n",
            " 2.09861229 2.09861229 2.09861229 2.09861229 2.09861229 2.09861229\n",
            " 2.09861229 2.09861229 2.09861229 2.09861229 2.09861229 2.09861229\n",
            " 2.09861229 2.09861229 2.09861229 1.69314718 2.09861229 2.09861229\n",
            " 2.09861229 2.09861229 2.09861229 2.09861229 2.09861229 2.09861229\n",
            " 2.09861229 2.09861229 2.09861229 2.09861229 2.09861229 2.09861229\n",
            " 2.09861229 2.09861229 2.09861229 2.09861229 2.09861229 2.09861229\n",
            " 2.09861229 2.09861229 2.09861229 2.09861229 2.09861229 2.09861229\n",
            " 2.09861229 2.09861229 2.09861229 2.09861229 2.09861229 1.40546511\n",
            " 1.40546511 1.         2.09861229 1.40546511 2.09861229 2.09861229\n",
            " 1.69314718 2.09861229 2.09861229 1.40546511 1.69314718 2.09861229\n",
            " 2.09861229 1.40546511 2.09861229 2.09861229 1.69314718 2.09861229\n",
            " 2.09861229 1.         2.09861229 1.69314718 2.09861229 2.09861229\n",
            " 2.09861229 2.09861229 2.09861229 2.09861229 2.09861229 2.09861229\n",
            " 2.09861229 2.09861229 2.09861229 1.69314718 1.69314718 2.09861229\n",
            " 2.09861229 2.09861229 2.09861229 2.09861229 2.09861229 2.09861229\n",
            " 1.69314718 2.09861229 2.09861229 1.69314718 1.40546511 1.69314718\n",
            " 1.69314718 2.09861229 2.09861229 1.18232156 1.69314718 1.69314718\n",
            " 1.40546511 1.18232156 2.09861229 2.09861229 2.09861229 2.09861229\n",
            " 1.         2.09861229 2.09861229 2.09861229 1.69314718 2.09861229\n",
            " 2.09861229 2.09861229 2.09861229 2.09861229 2.09861229 2.09861229\n",
            " 2.09861229 2.09861229 2.09861229 2.09861229 2.09861229 1.40546511\n",
            " 2.09861229 2.09861229 2.09861229 2.09861229 2.09861229 2.09861229]\n",
            "['10' 'about' 'accustomed' 'acting' 'action' 'actors' 'addiction' 'adrian'\n",
            " 'after' 'agenda' 'agreements' 'air' 'alivewe' 'all' 'allen' 'an' 'and'\n",
            " 'another' 'anxiously' 'appeal' 'are' 'arguing' 'around' 'arthur' 'as'\n",
            " 'at' 'audiences' 'average' 'await' 'away' 'awayi' 'basically' 'be'\n",
            " 'become' 'been' 'being' 'best' 'big' 'bitches' 'boogeyman' 'boy' 'bread'\n",
            " 'brutality' 'buscemi' 'but' 'by' 'called' 'can' 'career' 'carol' 'case'\n",
            " 'cast' 'cells' 'characters' 'charm' 'chosen' 'christians' 'city' 'class'\n",
            " 'classic' 'closet' 'come' 'comedies' 'comedy' 'comes' 'comfortable'\n",
            " 'comforting' 'concerning' 'conditioned' 'connect' 'connected' 'contact'\n",
            " 'control' 'couldnt' 'crooked' 'crown' 'dare' 'darker' 'dawson' 'dealings'\n",
            " 'death' 'decade' 'decide' 'decides' 'decorating' 'descent' 'developed'\n",
            " 'devil' 'dialogs' 'dialogue' 'diary' 'different' 'direction' 'director'\n",
            " 'disappears' 'disappointed' 'discerns' 'discomforting' 'divorcing' 'do'\n",
            " 'dodgy' 'doesnt' 'done' 'down' 'drama' 'dream' 'drugs' 'due' 'each'\n",
            " 'editing' 'em' 'emerald' 'encounter' 'encounterthe' 'entire' 'entries'\n",
            " 'episode' 'even' 'ever' 'every' 'exactly' 'expected' 'experience'\n",
            " 'experimental' 'extremely' 'face' 'fact' 'faint' 'family' 'fantasy' 'far'\n",
            " 'fashion' 'fighting' 'film' 'filming' 'find' 'first' 'flat' 'focuses'\n",
            " 'for' 'forget' 'friends' 'from' 'fronts' 'fulfillment' 'fully' 'gangstas'\n",
            " 'get' 'gets' 'given' 'gives' 'glass' 'go' 'goes' 'going' 'good' 'got'\n",
            " 'graphic' 'great' 'grenier' 'grown' 'guard' 'guards' 'guided'\n",
            " 'habitatthe' 'halliwell' 'halliwells' 'happened' 'hardcore' 'has' 'have'\n",
            " 'he' 'hearted' 'her' 'high' 'his' 'home' 'hooked' 'hot' 'how' 'human'\n",
            " 'id' 'if' 'ignore' 'image' 'imperioli' 'impressed' 'in' 'inhabits'\n",
            " 'injustice' 'inmates' 'instead' 'interesting' 'into' 'inwards' 'irish'\n",
            " 'is' 'it' 'italians' 'its' 'ive' 'jake' 'jewel' 'johanson' 'jumped'\n",
            " 'just' 'kane' 'kill' 'killer' 'know' 'knowledge' 'lack' 'latinos'\n",
            " 'laughed' 'levels' 'life' 'lighthearted' 'likable' 'like' 'little' 'live'\n",
            " 'loneliness' 'look' 'love' 'lovethis' 'luck' 'luxurious' 'main' 'mainly'\n",
            " 'mainstream' 'make' 'managed' 'mannered' 'many' 'manyaryans' 'masterful'\n",
            " 'masters' 'match' 'mattei' 'matteis' 'maximum' 'may' 'me' 'meaningless'\n",
            " 'meet' 'mentioned' 'mess' 'methe' 'michael' 'middle' 'money' 'more'\n",
            " 'moreso' 'most' 'movie' 'mr' 'murals' 'muslims' 'must' 'nasty' 'never'\n",
            " 'new' 'next' 'nickel' 'nickname' 'no' 'not' 'of' 'offers' 'oldtimebbc'\n",
            " 'on' 'one' 'only' 'opera' 'or' 'order' 'orton' 'oswald' 'other' 'our'\n",
            " 'out' 'own' 'oz' 'painted' 'parents' 'particularly' 'pat' 'penitentary'\n",
            " 'people' 'performed' 'person' 'petter' 'picture' 'pictures' 'piece'\n",
            " 'place' 'play' 'playing' 'plays' 'plot' 'point' 'polari' 'portrait'\n",
            " 'power' 'prada' 'present' 'pretty' 'previous' 'prison' 'privacy'\n",
            " 'production' 'proof' 'pulls' 'punches' 'rambo' 'rather' 'ready' 'real'\n",
            " 'realism' 'realize' 'really' 'references' 'regards' 'relations' 'remains'\n",
            " 'rest' 'reviewers' 'right' 'risk' 'romanceoz' 'rosario' 'ruins' 'same'\n",
            " 'saw' 'say' 'scarlet' 'scenes' 'schnitzlers' 'scuffles' 'seamless'\n",
            " 'section' 'security' 'see' 'seems' 'sense' 'senses' 'serial' 'set' 'sets'\n",
            " 'sex' 'sexy' 'shady' 'she' 'sheen' 'shots' 'show' 'shows' 'side'\n",
            " 'similar' 'simplistic' 'sincere' 'sitting' 'situations' 'skills' 'slower'\n",
            " 'so' 'soap' 'sold' 'solid' 'some' 'sometimes' 'sophisticated' 'souls'\n",
            " 'spend' 'spirited' 'spots3' 'stages' 'stares' 'state' 'steve' 'still'\n",
            " 'street' 'struck' 'stunning' 'style' 'stylishly' 'success' 'suddenly'\n",
            " 'summer' 'superman' 'surface' 'surreal' 'suspected' 'taken' 'talented'\n",
            " 'taste' 'technique' 'techniques' 'telling' 'terribly' 'terrificly' 'than'\n",
            " 'that' 'the' 'theater' 'their' 'them' 'theme' 'then' 'theres' 'these'\n",
            " 'they' 'thing' 'things' 'thinks' 'this' 'thought' 'thriller' 'time'\n",
            " 'timethis' 'timid' 'to' 'tone' 'too' 'totally' 'touch' 'traditional'\n",
            " 'transfers' 'truly' 'trust' 'turned' 'unassuming' 'uncomfortable' 'under'\n",
            " 'unflinching' 'us' 'use' 'variation' 'very' 'viewingthats' 'violence'\n",
            " 'visually' 'vivid' 'voices' 'was' 'watch' 'watchable' 'watched'\n",
            " 'watching' 'way' 'we' 'wears' 'weekend' 'well' 'what' 'when' 'where'\n",
            " 'which' 'while' 'wholl' 'williams' 'wish' 'with' 'wittier' 'witty'\n",
            " 'womanthis' 'wonderful' 'woody' 'woodys' 'word' 'wordit' 'work' 'world'\n",
            " 'worth' 'would' 'wouldnt' 'written' 'years' 'york' 'you' 'youll' 'young'\n",
            " 'your' 'youre' 'zombie' 'zombieok']\n"
          ]
        }
      ]
    },
    {
      "cell_type": "code",
      "source": [],
      "metadata": {
        "id": "fQ1mdBlHj2_L"
      },
      "execution_count": 22,
      "outputs": []
    }
  ]
}