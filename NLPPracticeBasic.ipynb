{
  "nbformat": 4,
  "nbformat_minor": 0,
  "metadata": {
    "colab": {
      "provenance": [],
      "authorship_tag": "ABX9TyPpQmkhSkDQJKs5BpXGmFyQ",
      "include_colab_link": true
    },
    "kernelspec": {
      "name": "python3",
      "display_name": "Python 3"
    },
    "language_info": {
      "name": "python"
    }
  },
  "cells": [
    {
      "cell_type": "markdown",
      "metadata": {
        "id": "view-in-github",
        "colab_type": "text"
      },
      "source": [
        "<a href=\"https://colab.research.google.com/github/rabinam24/NLP/blob/main/NLPPracticeBasic.ipynb\" target=\"_parent\"><img src=\"https://colab.research.google.com/assets/colab-badge.svg\" alt=\"Open In Colab\"/></a>"
      ]
    },
    {
      "cell_type": "code",
      "execution_count": null,
      "metadata": {
        "colab": {
          "base_uri": "https://localhost:8080/"
        },
        "id": "BL-AQskBv4XD",
        "outputId": "b697096b-6b67-4cd6-d1a4-2f15229f64f7"
      },
      "outputs": [
        {
          "output_type": "stream",
          "name": "stderr",
          "text": [
            "[nltk_data] Downloading package punkt to /root/nltk_data...\n",
            "[nltk_data]   Unzipping tokenizers/punkt.zip.\n"
          ]
        }
      ],
      "source": [
        "import nltk\n",
        "import sklearn\n",
        "nltk.download('punkt')\n",
        "from nltk.tokenize import word_tokenize\n",
        "from sklearn.feature_extraction.text import CountVectorizer"
      ]
    },
    {
      "cell_type": "code",
      "source": [
        "d1='Rabin eats food'\n",
        "d1=d1.lower()"
      ],
      "metadata": {
        "id": "ILGFPVUQv-MW"
      },
      "execution_count": null,
      "outputs": []
    },
    {
      "cell_type": "code",
      "source": [
        "token=word_tokenize(d1)"
      ],
      "metadata": {
        "id": "tEc5pLP9wkUO"
      },
      "execution_count": null,
      "outputs": []
    },
    {
      "cell_type": "code",
      "source": [
        "vectorizer=CountVectorizer()"
      ],
      "metadata": {
        "id": "G1kpW_EGwnSC"
      },
      "execution_count": null,
      "outputs": []
    },
    {
      "cell_type": "code",
      "source": [
        "bag_of_words=vectorizer.fit_transform(token)"
      ],
      "metadata": {
        "id": "0ummQCCQyo0G"
      },
      "execution_count": null,
      "outputs": []
    },
    {
      "cell_type": "code",
      "source": [
        "feature_names = vectorizer.get_feature_names_out()"
      ],
      "metadata": {
        "id": "dzyMOU5Fy0P3"
      },
      "execution_count": null,
      "outputs": []
    },
    {
      "cell_type": "code",
      "source": [
        "print(bag_of_words.toarray())"
      ],
      "metadata": {
        "colab": {
          "base_uri": "https://localhost:8080/"
        },
        "id": "782_i5C4zEBG",
        "outputId": "80fea0c3-bb7e-41dd-cde1-2dd7907e3588"
      },
      "execution_count": null,
      "outputs": [
        {
          "output_type": "stream",
          "name": "stdout",
          "text": [
            "[[0 0 1]\n",
            " [1 0 0]\n",
            " [0 1 0]]\n"
          ]
        }
      ]
    },
    {
      "cell_type": "code",
      "source": [
        "print(feature_names)"
      ],
      "metadata": {
        "colab": {
          "base_uri": "https://localhost:8080/"
        },
        "id": "XCTiUDiH0GJk",
        "outputId": "bdaeae3e-d018-481c-9754-a74eee9ac4c4"
      },
      "execution_count": null,
      "outputs": [
        {
          "output_type": "stream",
          "name": "stdout",
          "text": [
            "['eats' 'food' 'rabin']\n"
          ]
        }
      ]
    },
    {
      "cell_type": "code",
      "source": [
        "n_grams=CountVectorizer(ngram_range=(1,3))\n",
        "n_grams_words=n_grams.fit_transform(token)\n",
        "feature_name=n_grams.get_feature_names_out()\n",
        "print(n_grams_words)\n",
        "print(feature_name)"
      ],
      "metadata": {
        "colab": {
          "base_uri": "https://localhost:8080/"
        },
        "id": "47zxGHEX0MK5",
        "outputId": "d52c9f2a-4c05-4889-881d-269b2623353a"
      },
      "execution_count": null,
      "outputs": [
        {
          "output_type": "stream",
          "name": "stdout",
          "text": [
            "  (0, 2)\t1\n",
            "  (1, 0)\t1\n",
            "  (2, 1)\t1\n",
            "['eats' 'food' 'rabin']\n"
          ]
        }
      ]
    },
    {
      "cell_type": "code",
      "source": [
        "paragraph=\"\"\"\n",
        "Rabin was born in Jerusalem to Jewish immigrants from Eastern Europe and was raised in a Labor Zionist household. He learned agriculture in school and excelled as a student. He led a 27-year career as a soldier and ultimately attained the rank of Rav Aluf, the most senior rank in the Israeli Defense Force (often translated as lieutenant general). As a teenager he joined the Palmach, the commando force of the Yishuv. He eventually rose through its ranks to become its chief of operations during the 1948 Arab–Israeli War. He joined the newly formed Israel Defense Forces in late 1948 and continued to rise as a promising officer. He helped shape the training doctrine of the IDF in the early 1950s, and led the IDF's Operations Directorate from 1959 to 1963. He was appointed chief of the general staff in 1964 and oversaw Israel's victory in the 1967 Six-Day War.\n",
        "\"\"\""
      ],
      "metadata": {
        "id": "ZNFBJXuK08eu"
      },
      "execution_count": null,
      "outputs": []
    },
    {
      "cell_type": "code",
      "source": [
        "paragraph"
      ],
      "metadata": {
        "colab": {
          "base_uri": "https://localhost:8080/",
          "height": 109
        },
        "id": "v4GU0sHx2YDz",
        "outputId": "b48d8cd6-c1d4-4315-83ad-d7efae66aad1"
      },
      "execution_count": null,
      "outputs": [
        {
          "output_type": "execute_result",
          "data": {
            "text/plain": [
              "\"\\nRabin was born in Jerusalem to Jewish immigrants from Eastern Europe and was raised in a Labor Zionist household. He learned agriculture in school and excelled as a student. He led a 27-year career as a soldier and ultimately attained the rank of Rav Aluf, the most senior rank in the Israeli Defense Force (often translated as lieutenant general). As a teenager he joined the Palmach, the commando force of the Yishuv. He eventually rose through its ranks to become its chief of operations during the 1948 Arab–Israeli War. He joined the newly formed Israel Defense Forces in late 1948 and continued to rise as a promising officer. He helped shape the training doctrine of the IDF in the early 1950s, and led the IDF's Operations Directorate from 1959 to 1963. He was appointed chief of the general staff in 1964 and oversaw Israel's victory in the 1967 Six-Day War.\\n\""
            ],
            "application/vnd.google.colaboratory.intrinsic+json": {
              "type": "string"
            }
          },
          "metadata": {},
          "execution_count": 11
        }
      ]
    },
    {
      "cell_type": "code",
      "source": [
        "\n",
        "from nltk.corpus import stopwords"
      ],
      "metadata": {
        "id": "rJWKXEhA2cFM"
      },
      "execution_count": null,
      "outputs": []
    },
    {
      "cell_type": "code",
      "source": [
        "## Tokenization--- converting the paragraph into sentences and then into words\n",
        "sentences=nltk.sent_tokenize(paragraph)\n",
        "sentences"
      ],
      "metadata": {
        "colab": {
          "base_uri": "https://localhost:8080/"
        },
        "id": "NdRDFk5C2m8_",
        "outputId": "57ffbf54-c7dd-458f-c73c-8c24d658a974"
      },
      "execution_count": null,
      "outputs": [
        {
          "output_type": "execute_result",
          "data": {
            "text/plain": [
              "['\\nRabin was born in Jerusalem to Jewish immigrants from Eastern Europe and was raised in a Labor Zionist household.',\n",
              " 'He learned agriculture in school and excelled as a student.',\n",
              " 'He led a 27-year career as a soldier and ultimately attained the rank of Rav Aluf, the most senior rank in the Israeli Defense Force (often translated as lieutenant general).',\n",
              " 'As a teenager he joined the Palmach, the commando force of the Yishuv.',\n",
              " 'He eventually rose through its ranks to become its chief of operations during the 1948 Arab–Israeli War.',\n",
              " 'He joined the newly formed Israel Defense Forces in late 1948 and continued to rise as a promising officer.',\n",
              " \"He helped shape the training doctrine of the IDF in the early 1950s, and led the IDF's Operations Directorate from 1959 to 1963.\",\n",
              " \"He was appointed chief of the general staff in 1964 and oversaw Israel's victory in the 1967 Six-Day War.\"]"
            ]
          },
          "metadata": {},
          "execution_count": 13
        }
      ]
    },
    {
      "cell_type": "code",
      "source": [
        "import re\n",
        "corpus=[]\n",
        "for i in range(len(sentences)):\n",
        " review=re.sub('[^a-zA-Z]', ' ',sentences[i])\n",
        " review=review.lower()\n",
        " corpus.append(review)"
      ],
      "metadata": {
        "id": "UcuoKGyi3Ig6"
      },
      "execution_count": null,
      "outputs": []
    },
    {
      "cell_type": "code",
      "source": [
        "corpus"
      ],
      "metadata": {
        "colab": {
          "base_uri": "https://localhost:8080/"
        },
        "id": "E7osalux3jEu",
        "outputId": "0c24b32c-a626-4d13-a9ad-4990b5297f78"
      },
      "execution_count": null,
      "outputs": [
        {
          "output_type": "execute_result",
          "data": {
            "text/plain": [
              "[' rabin was born in jerusalem to jewish immigrants from eastern europe and was raised in a labor zionist household ',\n",
              " 'he learned agriculture in school and excelled as a student ',\n",
              " 'he led a    year career as a soldier and ultimately attained the rank of rav aluf  the most senior rank in the israeli defense force  often translated as lieutenant general  ',\n",
              " 'as a teenager he joined the palmach  the commando force of the yishuv ',\n",
              " 'he eventually rose through its ranks to become its chief of operations during the      arab israeli war ',\n",
              " 'he joined the newly formed israel defense forces in late      and continued to rise as a promising officer ',\n",
              " 'he helped shape the training doctrine of the idf in the early     s  and led the idf s operations directorate from      to      ',\n",
              " 'he was appointed chief of the general staff in      and oversaw israel s victory in the      six day war ']"
            ]
          },
          "metadata": {},
          "execution_count": 15
        }
      ]
    },
    {
      "cell_type": "code",
      "source": [
        "#let's apply stemming\n",
        "from nltk.stem import PorterStemmer\n",
        "stemmer=PorterStemmer()\n",
        "nltk.download('stopwords')"
      ],
      "metadata": {
        "colab": {
          "base_uri": "https://localhost:8080/"
        },
        "id": "kRo7jM526dVB",
        "outputId": "014fe7f1-9eac-48cd-85c5-4e9a329ef675"
      },
      "execution_count": null,
      "outputs": [
        {
          "output_type": "stream",
          "name": "stderr",
          "text": [
            "[nltk_data] Downloading package stopwords to /root/nltk_data...\n",
            "[nltk_data]   Unzipping corpora/stopwords.zip.\n"
          ]
        },
        {
          "output_type": "execute_result",
          "data": {
            "text/plain": [
              "True"
            ]
          },
          "metadata": {},
          "execution_count": 16
        }
      ]
    },
    {
      "cell_type": "code",
      "source": [
        "for i in corpus:\n",
        "  words=nltk.word_tokenize(i)\n",
        "  for word in words:\n",
        "    if word not in set(stopwords.words('english')):\n",
        "      print(stemmer.stem(word))\n"
      ],
      "metadata": {
        "colab": {
          "base_uri": "https://localhost:8080/"
        },
        "id": "wP1LwPJu5EON",
        "outputId": "43d2abd4-0707-49f2-8350-7fc741847b25"
      },
      "execution_count": null,
      "outputs": [
        {
          "output_type": "stream",
          "name": "stdout",
          "text": [
            "rabin\n",
            "born\n",
            "jerusalem\n",
            "jewish\n",
            "immigr\n",
            "eastern\n",
            "europ\n",
            "rais\n",
            "labor\n",
            "zionist\n",
            "household\n",
            "learn\n",
            "agricultur\n",
            "school\n",
            "excel\n",
            "student\n",
            "led\n",
            "year\n",
            "career\n",
            "soldier\n",
            "ultim\n",
            "attain\n",
            "rank\n",
            "rav\n",
            "aluf\n",
            "senior\n",
            "rank\n",
            "isra\n",
            "defens\n",
            "forc\n",
            "often\n",
            "translat\n",
            "lieuten\n",
            "gener\n",
            "teenag\n",
            "join\n",
            "palmach\n",
            "commando\n",
            "forc\n",
            "yishuv\n",
            "eventu\n",
            "rose\n",
            "rank\n",
            "becom\n",
            "chief\n",
            "oper\n",
            "arab\n",
            "isra\n",
            "war\n",
            "join\n",
            "newli\n",
            "form\n",
            "israel\n",
            "defens\n",
            "forc\n",
            "late\n",
            "continu\n",
            "rise\n",
            "promis\n",
            "offic\n",
            "help\n",
            "shape\n",
            "train\n",
            "doctrin\n",
            "idf\n",
            "earli\n",
            "led\n",
            "idf\n",
            "oper\n",
            "director\n",
            "appoint\n",
            "chief\n",
            "gener\n",
            "staff\n",
            "oversaw\n",
            "israel\n",
            "victori\n",
            "six\n",
            "day\n",
            "war\n"
          ]
        }
      ]
    },
    {
      "cell_type": "code",
      "source": [
        "# Lemmatization\n",
        "from nltk.stem import WordNetLemmatizer\n",
        "nltk.download('wordnet')"
      ],
      "metadata": {
        "colab": {
          "base_uri": "https://localhost:8080/"
        },
        "id": "26tnNCCQ5cFc",
        "outputId": "8afd8f98-66c0-455a-a254-5f8f9450f9de"
      },
      "execution_count": null,
      "outputs": [
        {
          "output_type": "stream",
          "name": "stderr",
          "text": [
            "[nltk_data] Downloading package wordnet to /root/nltk_data...\n"
          ]
        },
        {
          "output_type": "execute_result",
          "data": {
            "text/plain": [
              "True"
            ]
          },
          "metadata": {},
          "execution_count": 18
        }
      ]
    },
    {
      "cell_type": "code",
      "source": [
        "lemmatizer=WordNetLemmatizer()\n",
        "lemmatized_corpus=[]\n",
        "for i in corpus:\n",
        "  # words=nltk.word_tokenize(i)\n",
        "  for j in corpus: #words:\n",
        "    if j not in set(stopwords.words('english')):\n",
        "      lemmatized_words=lemmatizer.lemmatize(j)\n",
        "      lemmatized_sentence = \" \".join(lemmatized_words)\n",
        "      lemmatized_corpus.append(lemmatized_words)"
      ],
      "metadata": {
        "id": "WEB83rPO68Ky"
      },
      "execution_count": null,
      "outputs": []
    },
    {
      "cell_type": "code",
      "source": [
        "lemmatized_corpus"
      ],
      "metadata": {
        "colab": {
          "base_uri": "https://localhost:8080/"
        },
        "id": "3Y6PTboz9Igv",
        "outputId": "5ce350cc-cc02-4d34-d049-8c636fd1361b"
      },
      "execution_count": null,
      "outputs": [
        {
          "output_type": "execute_result",
          "data": {
            "text/plain": [
              "[' rabin was born in jerusalem to jewish immigrants from eastern europe and was raised in a labor zionist household ',\n",
              " 'he learned agriculture in school and excelled as a student ',\n",
              " 'he led a    year career as a soldier and ultimately attained the rank of rav aluf  the most senior rank in the israeli defense force  often translated as lieutenant general  ',\n",
              " 'as a teenager he joined the palmach  the commando force of the yishuv ',\n",
              " 'he eventually rose through its ranks to become its chief of operations during the      arab israeli war ',\n",
              " 'he joined the newly formed israel defense forces in late      and continued to rise as a promising officer ',\n",
              " 'he helped shape the training doctrine of the idf in the early     s  and led the idf s operations directorate from      to      ',\n",
              " 'he was appointed chief of the general staff in      and oversaw israel s victory in the      six day war ',\n",
              " ' rabin was born in jerusalem to jewish immigrants from eastern europe and was raised in a labor zionist household ',\n",
              " 'he learned agriculture in school and excelled as a student ',\n",
              " 'he led a    year career as a soldier and ultimately attained the rank of rav aluf  the most senior rank in the israeli defense force  often translated as lieutenant general  ',\n",
              " 'as a teenager he joined the palmach  the commando force of the yishuv ',\n",
              " 'he eventually rose through its ranks to become its chief of operations during the      arab israeli war ',\n",
              " 'he joined the newly formed israel defense forces in late      and continued to rise as a promising officer ',\n",
              " 'he helped shape the training doctrine of the idf in the early     s  and led the idf s operations directorate from      to      ',\n",
              " 'he was appointed chief of the general staff in      and oversaw israel s victory in the      six day war ',\n",
              " ' rabin was born in jerusalem to jewish immigrants from eastern europe and was raised in a labor zionist household ',\n",
              " 'he learned agriculture in school and excelled as a student ',\n",
              " 'he led a    year career as a soldier and ultimately attained the rank of rav aluf  the most senior rank in the israeli defense force  often translated as lieutenant general  ',\n",
              " 'as a teenager he joined the palmach  the commando force of the yishuv ',\n",
              " 'he eventually rose through its ranks to become its chief of operations during the      arab israeli war ',\n",
              " 'he joined the newly formed israel defense forces in late      and continued to rise as a promising officer ',\n",
              " 'he helped shape the training doctrine of the idf in the early     s  and led the idf s operations directorate from      to      ',\n",
              " 'he was appointed chief of the general staff in      and oversaw israel s victory in the      six day war ',\n",
              " ' rabin was born in jerusalem to jewish immigrants from eastern europe and was raised in a labor zionist household ',\n",
              " 'he learned agriculture in school and excelled as a student ',\n",
              " 'he led a    year career as a soldier and ultimately attained the rank of rav aluf  the most senior rank in the israeli defense force  often translated as lieutenant general  ',\n",
              " 'as a teenager he joined the palmach  the commando force of the yishuv ',\n",
              " 'he eventually rose through its ranks to become its chief of operations during the      arab israeli war ',\n",
              " 'he joined the newly formed israel defense forces in late      and continued to rise as a promising officer ',\n",
              " 'he helped shape the training doctrine of the idf in the early     s  and led the idf s operations directorate from      to      ',\n",
              " 'he was appointed chief of the general staff in      and oversaw israel s victory in the      six day war ',\n",
              " ' rabin was born in jerusalem to jewish immigrants from eastern europe and was raised in a labor zionist household ',\n",
              " 'he learned agriculture in school and excelled as a student ',\n",
              " 'he led a    year career as a soldier and ultimately attained the rank of rav aluf  the most senior rank in the israeli defense force  often translated as lieutenant general  ',\n",
              " 'as a teenager he joined the palmach  the commando force of the yishuv ',\n",
              " 'he eventually rose through its ranks to become its chief of operations during the      arab israeli war ',\n",
              " 'he joined the newly formed israel defense forces in late      and continued to rise as a promising officer ',\n",
              " 'he helped shape the training doctrine of the idf in the early     s  and led the idf s operations directorate from      to      ',\n",
              " 'he was appointed chief of the general staff in      and oversaw israel s victory in the      six day war ',\n",
              " ' rabin was born in jerusalem to jewish immigrants from eastern europe and was raised in a labor zionist household ',\n",
              " 'he learned agriculture in school and excelled as a student ',\n",
              " 'he led a    year career as a soldier and ultimately attained the rank of rav aluf  the most senior rank in the israeli defense force  often translated as lieutenant general  ',\n",
              " 'as a teenager he joined the palmach  the commando force of the yishuv ',\n",
              " 'he eventually rose through its ranks to become its chief of operations during the      arab israeli war ',\n",
              " 'he joined the newly formed israel defense forces in late      and continued to rise as a promising officer ',\n",
              " 'he helped shape the training doctrine of the idf in the early     s  and led the idf s operations directorate from      to      ',\n",
              " 'he was appointed chief of the general staff in      and oversaw israel s victory in the      six day war ',\n",
              " ' rabin was born in jerusalem to jewish immigrants from eastern europe and was raised in a labor zionist household ',\n",
              " 'he learned agriculture in school and excelled as a student ',\n",
              " 'he led a    year career as a soldier and ultimately attained the rank of rav aluf  the most senior rank in the israeli defense force  often translated as lieutenant general  ',\n",
              " 'as a teenager he joined the palmach  the commando force of the yishuv ',\n",
              " 'he eventually rose through its ranks to become its chief of operations during the      arab israeli war ',\n",
              " 'he joined the newly formed israel defense forces in late      and continued to rise as a promising officer ',\n",
              " 'he helped shape the training doctrine of the idf in the early     s  and led the idf s operations directorate from      to      ',\n",
              " 'he was appointed chief of the general staff in      and oversaw israel s victory in the      six day war ',\n",
              " ' rabin was born in jerusalem to jewish immigrants from eastern europe and was raised in a labor zionist household ',\n",
              " 'he learned agriculture in school and excelled as a student ',\n",
              " 'he led a    year career as a soldier and ultimately attained the rank of rav aluf  the most senior rank in the israeli defense force  often translated as lieutenant general  ',\n",
              " 'as a teenager he joined the palmach  the commando force of the yishuv ',\n",
              " 'he eventually rose through its ranks to become its chief of operations during the      arab israeli war ',\n",
              " 'he joined the newly formed israel defense forces in late      and continued to rise as a promising officer ',\n",
              " 'he helped shape the training doctrine of the idf in the early     s  and led the idf s operations directorate from      to      ',\n",
              " 'he was appointed chief of the general staff in      and oversaw israel s victory in the      six day war ']"
            ]
          },
          "metadata": {},
          "execution_count": 30
        }
      ]
    },
    {
      "cell_type": "code",
      "source": [
        "# for bag of words\n",
        "from sklearn.feature_extraction.text import CountVectorizer\n",
        "cv=CountVectorizer(binary=True,ngram_range=(3,3))\n",
        "x=cv.fit_transform(lemmatized_corpus)\n",
        "cv.vocabulary_\n"
      ],
      "metadata": {
        "colab": {
          "base_uri": "https://localhost:8080/"
        },
        "id": "x8vCzZAt7b8y",
        "outputId": "db868901-d326-43cf-e005-6adc38c0cc81"
      },
      "execution_count": null,
      "outputs": [
        {
          "output_type": "execute_result",
          "data": {
            "text/plain": [
              "{'rabin was born': 82,\n",
              " 'was born in': 119,\n",
              " 'born in jerusalem': 16,\n",
              " 'in jerusalem to': 49,\n",
              " 'jerusalem to jewish': 61,\n",
              " 'to jewish immigrants': 112,\n",
              " 'jewish immigrants from': 62,\n",
              " 'immigrants from eastern': 47,\n",
              " 'from eastern europe': 36,\n",
              " 'eastern europe and': 28,\n",
              " 'europe and was': 29,\n",
              " 'and was raised': 7,\n",
              " 'was raised in': 120,\n",
              " 'raised in labor': 83,\n",
              " 'in labor zionist': 50,\n",
              " 'labor zionist household': 65,\n",
              " 'he learned agriculture': 41,\n",
              " 'learned agriculture in': 67,\n",
              " 'agriculture in school': 0,\n",
              " 'in school and': 52,\n",
              " 'school and excelled': 90,\n",
              " 'and excelled as': 3,\n",
              " 'excelled as student': 31,\n",
              " 'he led year': 42,\n",
              " 'led year career': 69,\n",
              " 'year career as': 121,\n",
              " 'career as soldier': 17,\n",
              " 'as soldier and': 12,\n",
              " 'soldier and ultimately': 94,\n",
              " 'and ultimately attained': 6,\n",
              " 'ultimately attained the': 116,\n",
              " 'attained the rank': 14,\n",
              " 'the rank of': 107,\n",
              " 'rank of rav': 85,\n",
              " 'of rav aluf': 73,\n",
              " 'rav aluf the': 87,\n",
              " 'aluf the most': 1,\n",
              " 'the most senior': 104,\n",
              " 'most senior rank': 70,\n",
              " 'senior rank in': 91,\n",
              " 'rank in the': 84,\n",
              " 'in the israeli': 54,\n",
              " 'the israeli defense': 103,\n",
              " 'israeli defense force': 58,\n",
              " 'defense force often': 22,\n",
              " 'force often translated': 33,\n",
              " 'often translated as': 77,\n",
              " 'translated as lieutenant': 115,\n",
              " 'as lieutenant general': 10,\n",
              " 'as teenager he': 13,\n",
              " 'teenager he joined': 96,\n",
              " 'he joined the': 40,\n",
              " 'joined the palmach': 64,\n",
              " 'the palmach the': 106,\n",
              " 'palmach the commando': 81,\n",
              " 'the commando force': 98,\n",
              " 'commando force of': 20,\n",
              " 'force of the': 32,\n",
              " 'of the yishuv': 76,\n",
              " 'he eventually rose': 38,\n",
              " 'eventually rose through': 30,\n",
              " 'rose through its': 89,\n",
              " 'through its ranks': 110,\n",
              " 'its ranks to': 60,\n",
              " 'ranks to become': 86,\n",
              " 'to become its': 111,\n",
              " 'become its chief': 15,\n",
              " 'its chief of': 59,\n",
              " 'chief of operations': 18,\n",
              " 'of operations during': 72,\n",
              " 'operations during the': 79,\n",
              " 'during the arab': 26,\n",
              " 'the arab israeli': 97,\n",
              " 'arab israeli war': 9,\n",
              " 'joined the newly': 63,\n",
              " 'the newly formed': 105,\n",
              " 'newly formed israel': 71,\n",
              " 'formed israel defense': 35,\n",
              " 'israel defense forces': 56,\n",
              " 'defense forces in': 23,\n",
              " 'forces in late': 34,\n",
              " 'in late and': 51,\n",
              " 'late and continued': 66,\n",
              " 'and continued to': 2,\n",
              " 'continued to rise': 21,\n",
              " 'to rise as': 113,\n",
              " 'rise as promising': 88,\n",
              " 'as promising officer': 11,\n",
              " 'he helped shape': 39,\n",
              " 'helped shape the': 44,\n",
              " 'shape the training': 92,\n",
              " 'the training doctrine': 109,\n",
              " 'training doctrine of': 114,\n",
              " 'doctrine of the': 25,\n",
              " 'of the idf': 75,\n",
              " 'the idf in': 101,\n",
              " 'idf in the': 45,\n",
              " 'in the early': 53,\n",
              " 'the early and': 99,\n",
              " 'early and led': 27,\n",
              " 'and led the': 4,\n",
              " 'led the idf': 68,\n",
              " 'the idf operations': 102,\n",
              " 'idf operations directorate': 46,\n",
              " 'operations directorate from': 78,\n",
              " 'directorate from to': 24,\n",
              " 'he was appointed': 43,\n",
              " 'was appointed chief': 118,\n",
              " 'appointed chief of': 8,\n",
              " 'chief of the': 19,\n",
              " 'of the general': 74,\n",
              " 'the general staff': 100,\n",
              " 'general staff in': 37,\n",
              " 'staff in and': 95,\n",
              " 'in and oversaw': 48,\n",
              " 'and oversaw israel': 5,\n",
              " 'oversaw israel victory': 80,\n",
              " 'israel victory in': 57,\n",
              " 'victory in the': 117,\n",
              " 'in the six': 55,\n",
              " 'the six day': 108,\n",
              " 'six day war': 93}"
            ]
          },
          "metadata": {},
          "execution_count": 33
        }
      ]
    },
    {
      "cell_type": "code",
      "source": [
        "lemmatized_corpus[55]"
      ],
      "metadata": {
        "colab": {
          "base_uri": "https://localhost:8080/",
          "height": 36
        },
        "id": "Nq7DyCHB_NWG",
        "outputId": "1a6660b2-0548-4d1f-a9b7-660773f0ffe7"
      },
      "execution_count": null,
      "outputs": [
        {
          "output_type": "execute_result",
          "data": {
            "text/plain": [
              "'he was appointed chief of the general staff in      and oversaw israel s victory in the      six day war '"
            ],
            "application/vnd.google.colaboratory.intrinsic+json": {
              "type": "string"
            }
          },
          "metadata": {},
          "execution_count": 34
        }
      ]
    },
    {
      "cell_type": "code",
      "source": [
        "x[55].toarray()"
      ],
      "metadata": {
        "colab": {
          "base_uri": "https://localhost:8080/"
        },
        "id": "qQdCMymt_wZm",
        "outputId": "13d73e92-881e-4aaf-e1bd-f44818e8be8c"
      },
      "execution_count": null,
      "outputs": [
        {
          "output_type": "execute_result",
          "data": {
            "text/plain": [
              "array([[0, 0, 0, 0, 0, 1, 0, 0, 1, 0, 0, 0, 0, 0, 0, 0, 0, 0, 0, 1, 0, 0,\n",
              "        0, 0, 0, 0, 0, 0, 0, 0, 0, 0, 0, 0, 0, 0, 0, 1, 0, 0, 0, 0, 0, 1,\n",
              "        0, 0, 0, 0, 1, 0, 0, 0, 0, 0, 0, 1, 0, 1, 0, 0, 0, 0, 0, 0, 0, 0,\n",
              "        0, 0, 0, 0, 0, 0, 0, 0, 1, 0, 0, 0, 0, 0, 1, 0, 0, 0, 0, 0, 0, 0,\n",
              "        0, 0, 0, 0, 0, 1, 0, 1, 0, 0, 0, 0, 1, 0, 0, 0, 0, 0, 0, 0, 1, 0,\n",
              "        0, 0, 0, 0, 0, 0, 0, 1, 1, 0, 0, 0]])"
            ]
          },
          "metadata": {},
          "execution_count": 35
        }
      ]
    },
    {
      "cell_type": "code",
      "source": [
        "#Tf-Idf\n",
        "\n",
        "from sklearn.feature_extraction.text import TfidfVectorizer\n",
        "tfidf=TfidfVectorizer()\n",
        "tfidf_value=tfidf.fit_transform(lemmatized_corpus)\n",
        "feature_name=tfidf.get_feature_names_out()\n",
        "print(tfidf_value.toarray())\n",
        "print(feature_name)"
      ],
      "metadata": {
        "id": "IrHu4AKh_44R",
        "colab": {
          "base_uri": "https://localhost:8080/"
        },
        "outputId": "c2244640-f827-469d-f466-9a541eb230b8"
      },
      "execution_count": null,
      "outputs": [
        {
          "output_type": "stream",
          "name": "stdout",
          "text": [
            "[[0.         0.         0.11000181 ... 0.         0.         0.25534206]\n",
            " [0.4140437  0.         0.17837076 ... 0.         0.         0.        ]\n",
            " [0.         0.20947699 0.09024306 ... 0.20947699 0.         0.        ]\n",
            " ...\n",
            " [0.         0.         0.12877498 ... 0.         0.         0.        ]\n",
            " [0.         0.         0.10804341 ... 0.         0.         0.        ]\n",
            " [0.         0.         0.12902986 ... 0.         0.         0.        ]]\n",
            "['agriculture' 'aluf' 'and' 'appointed' 'arab' 'as' 'attained' 'become'\n",
            " 'born' 'career' 'chief' 'commando' 'continued' 'day' 'defense'\n",
            " 'directorate' 'doctrine' 'during' 'early' 'eastern' 'europe' 'eventually'\n",
            " 'excelled' 'force' 'forces' 'formed' 'from' 'general' 'he' 'helped'\n",
            " 'household' 'idf' 'immigrants' 'in' 'israel' 'israeli' 'its' 'jerusalem'\n",
            " 'jewish' 'joined' 'labor' 'late' 'learned' 'led' 'lieutenant' 'most'\n",
            " 'newly' 'of' 'officer' 'often' 'operations' 'oversaw' 'palmach'\n",
            " 'promising' 'rabin' 'raised' 'rank' 'ranks' 'rav' 'rise' 'rose' 'school'\n",
            " 'senior' 'shape' 'six' 'soldier' 'staff' 'student' 'teenager' 'the'\n",
            " 'through' 'to' 'training' 'translated' 'ultimately' 'victory' 'war' 'was'\n",
            " 'year' 'yishuv' 'zionist']\n"
          ]
        }
      ]
    },
    {
      "cell_type": "code",
      "source": [],
      "metadata": {
        "id": "YDtc3iOOnbJV"
      },
      "execution_count": null,
      "outputs": []
    }
  ]
}