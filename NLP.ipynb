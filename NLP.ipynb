{
  "nbformat": 4,
  "nbformat_minor": 0,
  "metadata": {
    "colab": {
      "provenance": [],
      "toc_visible": true,
      "mount_file_id": "1C0WUCoGtmYE9luP_vtCFiyI5kNxNyIj2",
      "authorship_tag": "ABX9TyPdrnNuLmAHgCm4Mj8ZLmW/",
      "include_colab_link": true
    },
    "kernelspec": {
      "name": "python3",
      "display_name": "Python 3"
    },
    "language_info": {
      "name": "python"
    }
  },
  "cells": [
    {
      "cell_type": "markdown",
      "metadata": {
        "id": "view-in-github",
        "colab_type": "text"
      },
      "source": [
        "<a href=\"https://colab.research.google.com/github/rabinam24/NLP/blob/main/NLP.ipynb\" target=\"_parent\"><img src=\"https://colab.research.google.com/assets/colab-badge.svg\" alt=\"Open In Colab\"/></a>"
      ]
    },
    {
      "cell_type": "markdown",
      "source": [
        "# Text Preprocessing"
      ],
      "metadata": {
        "id": "I5iT_NG15GEp"
      }
    },
    {
      "cell_type": "code",
      "source": [
        "import pandas as pd\n",
        "path =\"/content/drive/MyDrive/Friends.csv\"\n",
        "df=pd.read_csv(path)\n",
        "df\n"
      ],
      "metadata": {
        "id": "mQQzV08Es16G",
        "colab": {
          "base_uri": "https://localhost:8080/",
          "height": 423
        },
        "outputId": "f1a0f2a2-e2b8-4092-873a-a3c82e523494"
      },
      "execution_count": null,
      "outputs": [
        {
          "output_type": "execute_result",
          "data": {
            "text/plain": [
              "                                                    Text  Speaker  \\\n",
              "0      Originally written by Marta Kauffman and David...      NaN   \n",
              "1                              Transcribed by guineapig.      NaN   \n",
              "2       CENTRAL PERK. (ALL PRESENT EXCEPT RACHEL AND ...  SCENE 1   \n",
              "3       There's nothing to tell! He's just some guy I...   MONICA   \n",
              "4       C'mon, you're going out with the guy! There's...     JOEY   \n",
              "...                                                  ...      ...   \n",
              "69969   Then I'm happy too. (They're still hugging - ...     Ross   \n",
              "69970                                   COMMERCIAL BREAK      NaN   \n",
              "69971   Estelle's memorial service. Joey is giving a ...   [Scene   \n",
              "69972   Thank you all for coming. We're here today to...     Joey   \n",
              "69973                                            THE END      NaN   \n",
              "\n",
              "                                                 Episode     Season     Show  \n",
              "0      Episode-01-The One Where Monica Gets a New Roo...  Season-01  Friends  \n",
              "1      Episode-01-The One Where Monica Gets a New Roo...  Season-01  Friends  \n",
              "2      Episode-01-The One Where Monica Gets a New Roo...  Season-01  Friends  \n",
              "3      Episode-01-The One Where Monica Gets a New Roo...  Season-01  Friends  \n",
              "4      Episode-01-The One Where Monica Gets a New Roo...  Season-01  Friends  \n",
              "...                                                  ...        ...      ...  \n",
              "69969              Episode-15-The One Where Estelle Dies  Season-10  Friends  \n",
              "69970              Episode-15-The One Where Estelle Dies  Season-10  Friends  \n",
              "69971              Episode-15-The One Where Estelle Dies  Season-10  Friends  \n",
              "69972              Episode-15-The One Where Estelle Dies  Season-10  Friends  \n",
              "69973              Episode-15-The One Where Estelle Dies  Season-10  Friends  \n",
              "\n",
              "[69974 rows x 5 columns]"
            ],
            "text/html": [
              "\n",
              "  <div id=\"df-c8e5ef0f-cbb1-43a4-b2a2-9a39440e33da\" class=\"colab-df-container\">\n",
              "    <div>\n",
              "<style scoped>\n",
              "    .dataframe tbody tr th:only-of-type {\n",
              "        vertical-align: middle;\n",
              "    }\n",
              "\n",
              "    .dataframe tbody tr th {\n",
              "        vertical-align: top;\n",
              "    }\n",
              "\n",
              "    .dataframe thead th {\n",
              "        text-align: right;\n",
              "    }\n",
              "</style>\n",
              "<table border=\"1\" class=\"dataframe\">\n",
              "  <thead>\n",
              "    <tr style=\"text-align: right;\">\n",
              "      <th></th>\n",
              "      <th>Text</th>\n",
              "      <th>Speaker</th>\n",
              "      <th>Episode</th>\n",
              "      <th>Season</th>\n",
              "      <th>Show</th>\n",
              "    </tr>\n",
              "  </thead>\n",
              "  <tbody>\n",
              "    <tr>\n",
              "      <th>0</th>\n",
              "      <td>Originally written by Marta Kauffman and David...</td>\n",
              "      <td>NaN</td>\n",
              "      <td>Episode-01-The One Where Monica Gets a New Roo...</td>\n",
              "      <td>Season-01</td>\n",
              "      <td>Friends</td>\n",
              "    </tr>\n",
              "    <tr>\n",
              "      <th>1</th>\n",
              "      <td>Transcribed by guineapig.</td>\n",
              "      <td>NaN</td>\n",
              "      <td>Episode-01-The One Where Monica Gets a New Roo...</td>\n",
              "      <td>Season-01</td>\n",
              "      <td>Friends</td>\n",
              "    </tr>\n",
              "    <tr>\n",
              "      <th>2</th>\n",
              "      <td>CENTRAL PERK. (ALL PRESENT EXCEPT RACHEL AND ...</td>\n",
              "      <td>SCENE 1</td>\n",
              "      <td>Episode-01-The One Where Monica Gets a New Roo...</td>\n",
              "      <td>Season-01</td>\n",
              "      <td>Friends</td>\n",
              "    </tr>\n",
              "    <tr>\n",
              "      <th>3</th>\n",
              "      <td>There's nothing to tell! He's just some guy I...</td>\n",
              "      <td>MONICA</td>\n",
              "      <td>Episode-01-The One Where Monica Gets a New Roo...</td>\n",
              "      <td>Season-01</td>\n",
              "      <td>Friends</td>\n",
              "    </tr>\n",
              "    <tr>\n",
              "      <th>4</th>\n",
              "      <td>C'mon, you're going out with the guy! There's...</td>\n",
              "      <td>JOEY</td>\n",
              "      <td>Episode-01-The One Where Monica Gets a New Roo...</td>\n",
              "      <td>Season-01</td>\n",
              "      <td>Friends</td>\n",
              "    </tr>\n",
              "    <tr>\n",
              "      <th>...</th>\n",
              "      <td>...</td>\n",
              "      <td>...</td>\n",
              "      <td>...</td>\n",
              "      <td>...</td>\n",
              "      <td>...</td>\n",
              "    </tr>\n",
              "    <tr>\n",
              "      <th>69969</th>\n",
              "      <td>Then I'm happy too. (They're still hugging - ...</td>\n",
              "      <td>Ross</td>\n",
              "      <td>Episode-15-The One Where Estelle Dies</td>\n",
              "      <td>Season-10</td>\n",
              "      <td>Friends</td>\n",
              "    </tr>\n",
              "    <tr>\n",
              "      <th>69970</th>\n",
              "      <td>COMMERCIAL BREAK</td>\n",
              "      <td>NaN</td>\n",
              "      <td>Episode-15-The One Where Estelle Dies</td>\n",
              "      <td>Season-10</td>\n",
              "      <td>Friends</td>\n",
              "    </tr>\n",
              "    <tr>\n",
              "      <th>69971</th>\n",
              "      <td>Estelle's memorial service. Joey is giving a ...</td>\n",
              "      <td>[Scene</td>\n",
              "      <td>Episode-15-The One Where Estelle Dies</td>\n",
              "      <td>Season-10</td>\n",
              "      <td>Friends</td>\n",
              "    </tr>\n",
              "    <tr>\n",
              "      <th>69972</th>\n",
              "      <td>Thank you all for coming. We're here today to...</td>\n",
              "      <td>Joey</td>\n",
              "      <td>Episode-15-The One Where Estelle Dies</td>\n",
              "      <td>Season-10</td>\n",
              "      <td>Friends</td>\n",
              "    </tr>\n",
              "    <tr>\n",
              "      <th>69973</th>\n",
              "      <td>THE END</td>\n",
              "      <td>NaN</td>\n",
              "      <td>Episode-15-The One Where Estelle Dies</td>\n",
              "      <td>Season-10</td>\n",
              "      <td>Friends</td>\n",
              "    </tr>\n",
              "  </tbody>\n",
              "</table>\n",
              "<p>69974 rows × 5 columns</p>\n",
              "</div>\n",
              "    <div class=\"colab-df-buttons\">\n",
              "\n",
              "  <div class=\"colab-df-container\">\n",
              "    <button class=\"colab-df-convert\" onclick=\"convertToInteractive('df-c8e5ef0f-cbb1-43a4-b2a2-9a39440e33da')\"\n",
              "            title=\"Convert this dataframe to an interactive table.\"\n",
              "            style=\"display:none;\">\n",
              "\n",
              "  <svg xmlns=\"http://www.w3.org/2000/svg\" height=\"24px\" viewBox=\"0 -960 960 960\">\n",
              "    <path d=\"M120-120v-720h720v720H120Zm60-500h600v-160H180v160Zm220 220h160v-160H400v160Zm0 220h160v-160H400v160ZM180-400h160v-160H180v160Zm440 0h160v-160H620v160ZM180-180h160v-160H180v160Zm440 0h160v-160H620v160Z\"/>\n",
              "  </svg>\n",
              "    </button>\n",
              "\n",
              "  <style>\n",
              "    .colab-df-container {\n",
              "      display:flex;\n",
              "      gap: 12px;\n",
              "    }\n",
              "\n",
              "    .colab-df-convert {\n",
              "      background-color: #E8F0FE;\n",
              "      border: none;\n",
              "      border-radius: 50%;\n",
              "      cursor: pointer;\n",
              "      display: none;\n",
              "      fill: #1967D2;\n",
              "      height: 32px;\n",
              "      padding: 0 0 0 0;\n",
              "      width: 32px;\n",
              "    }\n",
              "\n",
              "    .colab-df-convert:hover {\n",
              "      background-color: #E2EBFA;\n",
              "      box-shadow: 0px 1px 2px rgba(60, 64, 67, 0.3), 0px 1px 3px 1px rgba(60, 64, 67, 0.15);\n",
              "      fill: #174EA6;\n",
              "    }\n",
              "\n",
              "    .colab-df-buttons div {\n",
              "      margin-bottom: 4px;\n",
              "    }\n",
              "\n",
              "    [theme=dark] .colab-df-convert {\n",
              "      background-color: #3B4455;\n",
              "      fill: #D2E3FC;\n",
              "    }\n",
              "\n",
              "    [theme=dark] .colab-df-convert:hover {\n",
              "      background-color: #434B5C;\n",
              "      box-shadow: 0px 1px 3px 1px rgba(0, 0, 0, 0.15);\n",
              "      filter: drop-shadow(0px 1px 2px rgba(0, 0, 0, 0.3));\n",
              "      fill: #FFFFFF;\n",
              "    }\n",
              "  </style>\n",
              "\n",
              "    <script>\n",
              "      const buttonEl =\n",
              "        document.querySelector('#df-c8e5ef0f-cbb1-43a4-b2a2-9a39440e33da button.colab-df-convert');\n",
              "      buttonEl.style.display =\n",
              "        google.colab.kernel.accessAllowed ? 'block' : 'none';\n",
              "\n",
              "      async function convertToInteractive(key) {\n",
              "        const element = document.querySelector('#df-c8e5ef0f-cbb1-43a4-b2a2-9a39440e33da');\n",
              "        const dataTable =\n",
              "          await google.colab.kernel.invokeFunction('convertToInteractive',\n",
              "                                                    [key], {});\n",
              "        if (!dataTable) return;\n",
              "\n",
              "        const docLinkHtml = 'Like what you see? Visit the ' +\n",
              "          '<a target=\"_blank\" href=https://colab.research.google.com/notebooks/data_table.ipynb>data table notebook</a>'\n",
              "          + ' to learn more about interactive tables.';\n",
              "        element.innerHTML = '';\n",
              "        dataTable['output_type'] = 'display_data';\n",
              "        await google.colab.output.renderOutput(dataTable, element);\n",
              "        const docLink = document.createElement('div');\n",
              "        docLink.innerHTML = docLinkHtml;\n",
              "        element.appendChild(docLink);\n",
              "      }\n",
              "    </script>\n",
              "  </div>\n",
              "\n",
              "\n",
              "<div id=\"df-637e15cc-679e-4926-ac46-23cde1eb9708\">\n",
              "  <button class=\"colab-df-quickchart\" onclick=\"quickchart('df-637e15cc-679e-4926-ac46-23cde1eb9708')\"\n",
              "            title=\"Suggest charts\"\n",
              "            style=\"display:none;\">\n",
              "\n",
              "<svg xmlns=\"http://www.w3.org/2000/svg\" height=\"24px\"viewBox=\"0 0 24 24\"\n",
              "     width=\"24px\">\n",
              "    <g>\n",
              "        <path d=\"M19 3H5c-1.1 0-2 .9-2 2v14c0 1.1.9 2 2 2h14c1.1 0 2-.9 2-2V5c0-1.1-.9-2-2-2zM9 17H7v-7h2v7zm4 0h-2V7h2v10zm4 0h-2v-4h2v4z\"/>\n",
              "    </g>\n",
              "</svg>\n",
              "  </button>\n",
              "\n",
              "<style>\n",
              "  .colab-df-quickchart {\n",
              "      --bg-color: #E8F0FE;\n",
              "      --fill-color: #1967D2;\n",
              "      --hover-bg-color: #E2EBFA;\n",
              "      --hover-fill-color: #174EA6;\n",
              "      --disabled-fill-color: #AAA;\n",
              "      --disabled-bg-color: #DDD;\n",
              "  }\n",
              "\n",
              "  [theme=dark] .colab-df-quickchart {\n",
              "      --bg-color: #3B4455;\n",
              "      --fill-color: #D2E3FC;\n",
              "      --hover-bg-color: #434B5C;\n",
              "      --hover-fill-color: #FFFFFF;\n",
              "      --disabled-bg-color: #3B4455;\n",
              "      --disabled-fill-color: #666;\n",
              "  }\n",
              "\n",
              "  .colab-df-quickchart {\n",
              "    background-color: var(--bg-color);\n",
              "    border: none;\n",
              "    border-radius: 50%;\n",
              "    cursor: pointer;\n",
              "    display: none;\n",
              "    fill: var(--fill-color);\n",
              "    height: 32px;\n",
              "    padding: 0;\n",
              "    width: 32px;\n",
              "  }\n",
              "\n",
              "  .colab-df-quickchart:hover {\n",
              "    background-color: var(--hover-bg-color);\n",
              "    box-shadow: 0 1px 2px rgba(60, 64, 67, 0.3), 0 1px 3px 1px rgba(60, 64, 67, 0.15);\n",
              "    fill: var(--button-hover-fill-color);\n",
              "  }\n",
              "\n",
              "  .colab-df-quickchart-complete:disabled,\n",
              "  .colab-df-quickchart-complete:disabled:hover {\n",
              "    background-color: var(--disabled-bg-color);\n",
              "    fill: var(--disabled-fill-color);\n",
              "    box-shadow: none;\n",
              "  }\n",
              "\n",
              "  .colab-df-spinner {\n",
              "    border: 2px solid var(--fill-color);\n",
              "    border-color: transparent;\n",
              "    border-bottom-color: var(--fill-color);\n",
              "    animation:\n",
              "      spin 1s steps(1) infinite;\n",
              "  }\n",
              "\n",
              "  @keyframes spin {\n",
              "    0% {\n",
              "      border-color: transparent;\n",
              "      border-bottom-color: var(--fill-color);\n",
              "      border-left-color: var(--fill-color);\n",
              "    }\n",
              "    20% {\n",
              "      border-color: transparent;\n",
              "      border-left-color: var(--fill-color);\n",
              "      border-top-color: var(--fill-color);\n",
              "    }\n",
              "    30% {\n",
              "      border-color: transparent;\n",
              "      border-left-color: var(--fill-color);\n",
              "      border-top-color: var(--fill-color);\n",
              "      border-right-color: var(--fill-color);\n",
              "    }\n",
              "    40% {\n",
              "      border-color: transparent;\n",
              "      border-right-color: var(--fill-color);\n",
              "      border-top-color: var(--fill-color);\n",
              "    }\n",
              "    60% {\n",
              "      border-color: transparent;\n",
              "      border-right-color: var(--fill-color);\n",
              "    }\n",
              "    80% {\n",
              "      border-color: transparent;\n",
              "      border-right-color: var(--fill-color);\n",
              "      border-bottom-color: var(--fill-color);\n",
              "    }\n",
              "    90% {\n",
              "      border-color: transparent;\n",
              "      border-bottom-color: var(--fill-color);\n",
              "    }\n",
              "  }\n",
              "</style>\n",
              "\n",
              "  <script>\n",
              "    async function quickchart(key) {\n",
              "      const quickchartButtonEl =\n",
              "        document.querySelector('#' + key + ' button');\n",
              "      quickchartButtonEl.disabled = true;  // To prevent multiple clicks.\n",
              "      quickchartButtonEl.classList.add('colab-df-spinner');\n",
              "      try {\n",
              "        const charts = await google.colab.kernel.invokeFunction(\n",
              "            'suggestCharts', [key], {});\n",
              "      } catch (error) {\n",
              "        console.error('Error during call to suggestCharts:', error);\n",
              "      }\n",
              "      quickchartButtonEl.classList.remove('colab-df-spinner');\n",
              "      quickchartButtonEl.classList.add('colab-df-quickchart-complete');\n",
              "    }\n",
              "    (() => {\n",
              "      let quickchartButtonEl =\n",
              "        document.querySelector('#df-637e15cc-679e-4926-ac46-23cde1eb9708 button');\n",
              "      quickchartButtonEl.style.display =\n",
              "        google.colab.kernel.accessAllowed ? 'block' : 'none';\n",
              "    })();\n",
              "  </script>\n",
              "</div>\n",
              "\n",
              "  <div id=\"id_20ec71b7-03c6-4bc8-bd28-9a1157794729\">\n",
              "    <style>\n",
              "      .colab-df-generate {\n",
              "        background-color: #E8F0FE;\n",
              "        border: none;\n",
              "        border-radius: 50%;\n",
              "        cursor: pointer;\n",
              "        display: none;\n",
              "        fill: #1967D2;\n",
              "        height: 32px;\n",
              "        padding: 0 0 0 0;\n",
              "        width: 32px;\n",
              "      }\n",
              "\n",
              "      .colab-df-generate:hover {\n",
              "        background-color: #E2EBFA;\n",
              "        box-shadow: 0px 1px 2px rgba(60, 64, 67, 0.3), 0px 1px 3px 1px rgba(60, 64, 67, 0.15);\n",
              "        fill: #174EA6;\n",
              "      }\n",
              "\n",
              "      [theme=dark] .colab-df-generate {\n",
              "        background-color: #3B4455;\n",
              "        fill: #D2E3FC;\n",
              "      }\n",
              "\n",
              "      [theme=dark] .colab-df-generate:hover {\n",
              "        background-color: #434B5C;\n",
              "        box-shadow: 0px 1px 3px 1px rgba(0, 0, 0, 0.15);\n",
              "        filter: drop-shadow(0px 1px 2px rgba(0, 0, 0, 0.3));\n",
              "        fill: #FFFFFF;\n",
              "      }\n",
              "    </style>\n",
              "    <button class=\"colab-df-generate\" onclick=\"generateWithVariable('df')\"\n",
              "            title=\"Generate code using this dataframe.\"\n",
              "            style=\"display:none;\">\n",
              "\n",
              "  <svg xmlns=\"http://www.w3.org/2000/svg\" height=\"24px\"viewBox=\"0 0 24 24\"\n",
              "       width=\"24px\">\n",
              "    <path d=\"M7,19H8.4L18.45,9,17,7.55,7,17.6ZM5,21V16.75L18.45,3.32a2,2,0,0,1,2.83,0l1.4,1.43a1.91,1.91,0,0,1,.58,1.4,1.91,1.91,0,0,1-.58,1.4L9.25,21ZM18.45,9,17,7.55Zm-12,3A5.31,5.31,0,0,0,4.9,8.1,5.31,5.31,0,0,0,1,6.5,5.31,5.31,0,0,0,4.9,4.9,5.31,5.31,0,0,0,6.5,1,5.31,5.31,0,0,0,8.1,4.9,5.31,5.31,0,0,0,12,6.5,5.46,5.46,0,0,0,6.5,12Z\"/>\n",
              "  </svg>\n",
              "    </button>\n",
              "    <script>\n",
              "      (() => {\n",
              "      const buttonEl =\n",
              "        document.querySelector('#id_20ec71b7-03c6-4bc8-bd28-9a1157794729 button.colab-df-generate');\n",
              "      buttonEl.style.display =\n",
              "        google.colab.kernel.accessAllowed ? 'block' : 'none';\n",
              "\n",
              "      buttonEl.onclick = () => {\n",
              "        google.colab.notebook.generateWithVariable('df');\n",
              "      }\n",
              "      })();\n",
              "    </script>\n",
              "  </div>\n",
              "\n",
              "    </div>\n",
              "  </div>\n"
            ]
          },
          "metadata": {},
          "execution_count": 1
        }
      ]
    },
    {
      "cell_type": "markdown",
      "source": [
        "#  Now converting Text data to lowercase"
      ],
      "metadata": {
        "id": "cD3HcQJtn0Wx"
      }
    },
    {
      "cell_type": "code",
      "source": [
        "df['Text']"
      ],
      "metadata": {
        "colab": {
          "base_uri": "https://localhost:8080/"
        },
        "id": "3yM2XWxbnEhj",
        "outputId": "603222f0-8e49-45fb-846b-866886cb47eb"
      },
      "execution_count": null,
      "outputs": [
        {
          "output_type": "execute_result",
          "data": {
            "text/plain": [
              "0        Originally written by Marta Kauffman and David...\n",
              "1                                Transcribed by guineapig.\n",
              "2         CENTRAL PERK. (ALL PRESENT EXCEPT RACHEL AND ...\n",
              "3         There's nothing to tell! He's just some guy I...\n",
              "4         C'mon, you're going out with the guy! There's...\n",
              "                               ...                        \n",
              "69969     Then I'm happy too. (They're still hugging - ...\n",
              "69970                                     COMMERCIAL BREAK\n",
              "69971     Estelle's memorial service. Joey is giving a ...\n",
              "69972     Thank you all for coming. We're here today to...\n",
              "69973                                              THE END\n",
              "Name: Text, Length: 69974, dtype: object"
            ]
          },
          "metadata": {},
          "execution_count": 2
        }
      ]
    },
    {
      "cell_type": "code",
      "source": [
        "df['Text'] = df['Text'].str.lower()"
      ],
      "metadata": {
        "id": "nMqZU_UGoCwL"
      },
      "execution_count": null,
      "outputs": []
    },
    {
      "cell_type": "code",
      "source": [
        "df"
      ],
      "metadata": {
        "colab": {
          "base_uri": "https://localhost:8080/",
          "height": 423
        },
        "id": "YzccIvC0pO0U",
        "outputId": "836dbaa7-ca76-445f-eccf-682b48fb21bd"
      },
      "execution_count": null,
      "outputs": [
        {
          "output_type": "execute_result",
          "data": {
            "text/plain": [
              "                                                    Text  Speaker  \\\n",
              "0      originally written by marta kauffman and david...      NaN   \n",
              "1                              transcribed by guineapig.      NaN   \n",
              "2       central perk. (all present except rachel and ...  SCENE 1   \n",
              "3       there's nothing to tell! he's just some guy i...   MONICA   \n",
              "4       c'mon, you're going out with the guy! there's...     JOEY   \n",
              "...                                                  ...      ...   \n",
              "69969   then i'm happy too. (they're still hugging - ...     Ross   \n",
              "69970                                   commercial break      NaN   \n",
              "69971   estelle's memorial service. joey is giving a ...   [Scene   \n",
              "69972   thank you all for coming. we're here today to...     Joey   \n",
              "69973                                            the end      NaN   \n",
              "\n",
              "                                                 Episode     Season     Show  \n",
              "0      Episode-01-The One Where Monica Gets a New Roo...  Season-01  Friends  \n",
              "1      Episode-01-The One Where Monica Gets a New Roo...  Season-01  Friends  \n",
              "2      Episode-01-The One Where Monica Gets a New Roo...  Season-01  Friends  \n",
              "3      Episode-01-The One Where Monica Gets a New Roo...  Season-01  Friends  \n",
              "4      Episode-01-The One Where Monica Gets a New Roo...  Season-01  Friends  \n",
              "...                                                  ...        ...      ...  \n",
              "69969              Episode-15-The One Where Estelle Dies  Season-10  Friends  \n",
              "69970              Episode-15-The One Where Estelle Dies  Season-10  Friends  \n",
              "69971              Episode-15-The One Where Estelle Dies  Season-10  Friends  \n",
              "69972              Episode-15-The One Where Estelle Dies  Season-10  Friends  \n",
              "69973              Episode-15-The One Where Estelle Dies  Season-10  Friends  \n",
              "\n",
              "[69974 rows x 5 columns]"
            ],
            "text/html": [
              "\n",
              "  <div id=\"df-e38ac8cc-2d39-4b13-ac9f-7f764741e8a1\" class=\"colab-df-container\">\n",
              "    <div>\n",
              "<style scoped>\n",
              "    .dataframe tbody tr th:only-of-type {\n",
              "        vertical-align: middle;\n",
              "    }\n",
              "\n",
              "    .dataframe tbody tr th {\n",
              "        vertical-align: top;\n",
              "    }\n",
              "\n",
              "    .dataframe thead th {\n",
              "        text-align: right;\n",
              "    }\n",
              "</style>\n",
              "<table border=\"1\" class=\"dataframe\">\n",
              "  <thead>\n",
              "    <tr style=\"text-align: right;\">\n",
              "      <th></th>\n",
              "      <th>Text</th>\n",
              "      <th>Speaker</th>\n",
              "      <th>Episode</th>\n",
              "      <th>Season</th>\n",
              "      <th>Show</th>\n",
              "    </tr>\n",
              "  </thead>\n",
              "  <tbody>\n",
              "    <tr>\n",
              "      <th>0</th>\n",
              "      <td>originally written by marta kauffman and david...</td>\n",
              "      <td>NaN</td>\n",
              "      <td>Episode-01-The One Where Monica Gets a New Roo...</td>\n",
              "      <td>Season-01</td>\n",
              "      <td>Friends</td>\n",
              "    </tr>\n",
              "    <tr>\n",
              "      <th>1</th>\n",
              "      <td>transcribed by guineapig.</td>\n",
              "      <td>NaN</td>\n",
              "      <td>Episode-01-The One Where Monica Gets a New Roo...</td>\n",
              "      <td>Season-01</td>\n",
              "      <td>Friends</td>\n",
              "    </tr>\n",
              "    <tr>\n",
              "      <th>2</th>\n",
              "      <td>central perk. (all present except rachel and ...</td>\n",
              "      <td>SCENE 1</td>\n",
              "      <td>Episode-01-The One Where Monica Gets a New Roo...</td>\n",
              "      <td>Season-01</td>\n",
              "      <td>Friends</td>\n",
              "    </tr>\n",
              "    <tr>\n",
              "      <th>3</th>\n",
              "      <td>there's nothing to tell! he's just some guy i...</td>\n",
              "      <td>MONICA</td>\n",
              "      <td>Episode-01-The One Where Monica Gets a New Roo...</td>\n",
              "      <td>Season-01</td>\n",
              "      <td>Friends</td>\n",
              "    </tr>\n",
              "    <tr>\n",
              "      <th>4</th>\n",
              "      <td>c'mon, you're going out with the guy! there's...</td>\n",
              "      <td>JOEY</td>\n",
              "      <td>Episode-01-The One Where Monica Gets a New Roo...</td>\n",
              "      <td>Season-01</td>\n",
              "      <td>Friends</td>\n",
              "    </tr>\n",
              "    <tr>\n",
              "      <th>...</th>\n",
              "      <td>...</td>\n",
              "      <td>...</td>\n",
              "      <td>...</td>\n",
              "      <td>...</td>\n",
              "      <td>...</td>\n",
              "    </tr>\n",
              "    <tr>\n",
              "      <th>69969</th>\n",
              "      <td>then i'm happy too. (they're still hugging - ...</td>\n",
              "      <td>Ross</td>\n",
              "      <td>Episode-15-The One Where Estelle Dies</td>\n",
              "      <td>Season-10</td>\n",
              "      <td>Friends</td>\n",
              "    </tr>\n",
              "    <tr>\n",
              "      <th>69970</th>\n",
              "      <td>commercial break</td>\n",
              "      <td>NaN</td>\n",
              "      <td>Episode-15-The One Where Estelle Dies</td>\n",
              "      <td>Season-10</td>\n",
              "      <td>Friends</td>\n",
              "    </tr>\n",
              "    <tr>\n",
              "      <th>69971</th>\n",
              "      <td>estelle's memorial service. joey is giving a ...</td>\n",
              "      <td>[Scene</td>\n",
              "      <td>Episode-15-The One Where Estelle Dies</td>\n",
              "      <td>Season-10</td>\n",
              "      <td>Friends</td>\n",
              "    </tr>\n",
              "    <tr>\n",
              "      <th>69972</th>\n",
              "      <td>thank you all for coming. we're here today to...</td>\n",
              "      <td>Joey</td>\n",
              "      <td>Episode-15-The One Where Estelle Dies</td>\n",
              "      <td>Season-10</td>\n",
              "      <td>Friends</td>\n",
              "    </tr>\n",
              "    <tr>\n",
              "      <th>69973</th>\n",
              "      <td>the end</td>\n",
              "      <td>NaN</td>\n",
              "      <td>Episode-15-The One Where Estelle Dies</td>\n",
              "      <td>Season-10</td>\n",
              "      <td>Friends</td>\n",
              "    </tr>\n",
              "  </tbody>\n",
              "</table>\n",
              "<p>69974 rows × 5 columns</p>\n",
              "</div>\n",
              "    <div class=\"colab-df-buttons\">\n",
              "\n",
              "  <div class=\"colab-df-container\">\n",
              "    <button class=\"colab-df-convert\" onclick=\"convertToInteractive('df-e38ac8cc-2d39-4b13-ac9f-7f764741e8a1')\"\n",
              "            title=\"Convert this dataframe to an interactive table.\"\n",
              "            style=\"display:none;\">\n",
              "\n",
              "  <svg xmlns=\"http://www.w3.org/2000/svg\" height=\"24px\" viewBox=\"0 -960 960 960\">\n",
              "    <path d=\"M120-120v-720h720v720H120Zm60-500h600v-160H180v160Zm220 220h160v-160H400v160Zm0 220h160v-160H400v160ZM180-400h160v-160H180v160Zm440 0h160v-160H620v160ZM180-180h160v-160H180v160Zm440 0h160v-160H620v160Z\"/>\n",
              "  </svg>\n",
              "    </button>\n",
              "\n",
              "  <style>\n",
              "    .colab-df-container {\n",
              "      display:flex;\n",
              "      gap: 12px;\n",
              "    }\n",
              "\n",
              "    .colab-df-convert {\n",
              "      background-color: #E8F0FE;\n",
              "      border: none;\n",
              "      border-radius: 50%;\n",
              "      cursor: pointer;\n",
              "      display: none;\n",
              "      fill: #1967D2;\n",
              "      height: 32px;\n",
              "      padding: 0 0 0 0;\n",
              "      width: 32px;\n",
              "    }\n",
              "\n",
              "    .colab-df-convert:hover {\n",
              "      background-color: #E2EBFA;\n",
              "      box-shadow: 0px 1px 2px rgba(60, 64, 67, 0.3), 0px 1px 3px 1px rgba(60, 64, 67, 0.15);\n",
              "      fill: #174EA6;\n",
              "    }\n",
              "\n",
              "    .colab-df-buttons div {\n",
              "      margin-bottom: 4px;\n",
              "    }\n",
              "\n",
              "    [theme=dark] .colab-df-convert {\n",
              "      background-color: #3B4455;\n",
              "      fill: #D2E3FC;\n",
              "    }\n",
              "\n",
              "    [theme=dark] .colab-df-convert:hover {\n",
              "      background-color: #434B5C;\n",
              "      box-shadow: 0px 1px 3px 1px rgba(0, 0, 0, 0.15);\n",
              "      filter: drop-shadow(0px 1px 2px rgba(0, 0, 0, 0.3));\n",
              "      fill: #FFFFFF;\n",
              "    }\n",
              "  </style>\n",
              "\n",
              "    <script>\n",
              "      const buttonEl =\n",
              "        document.querySelector('#df-e38ac8cc-2d39-4b13-ac9f-7f764741e8a1 button.colab-df-convert');\n",
              "      buttonEl.style.display =\n",
              "        google.colab.kernel.accessAllowed ? 'block' : 'none';\n",
              "\n",
              "      async function convertToInteractive(key) {\n",
              "        const element = document.querySelector('#df-e38ac8cc-2d39-4b13-ac9f-7f764741e8a1');\n",
              "        const dataTable =\n",
              "          await google.colab.kernel.invokeFunction('convertToInteractive',\n",
              "                                                    [key], {});\n",
              "        if (!dataTable) return;\n",
              "\n",
              "        const docLinkHtml = 'Like what you see? Visit the ' +\n",
              "          '<a target=\"_blank\" href=https://colab.research.google.com/notebooks/data_table.ipynb>data table notebook</a>'\n",
              "          + ' to learn more about interactive tables.';\n",
              "        element.innerHTML = '';\n",
              "        dataTable['output_type'] = 'display_data';\n",
              "        await google.colab.output.renderOutput(dataTable, element);\n",
              "        const docLink = document.createElement('div');\n",
              "        docLink.innerHTML = docLinkHtml;\n",
              "        element.appendChild(docLink);\n",
              "      }\n",
              "    </script>\n",
              "  </div>\n",
              "\n",
              "\n",
              "<div id=\"df-99ad008b-5fd2-4609-b175-bcc19e3e37dc\">\n",
              "  <button class=\"colab-df-quickchart\" onclick=\"quickchart('df-99ad008b-5fd2-4609-b175-bcc19e3e37dc')\"\n",
              "            title=\"Suggest charts\"\n",
              "            style=\"display:none;\">\n",
              "\n",
              "<svg xmlns=\"http://www.w3.org/2000/svg\" height=\"24px\"viewBox=\"0 0 24 24\"\n",
              "     width=\"24px\">\n",
              "    <g>\n",
              "        <path d=\"M19 3H5c-1.1 0-2 .9-2 2v14c0 1.1.9 2 2 2h14c1.1 0 2-.9 2-2V5c0-1.1-.9-2-2-2zM9 17H7v-7h2v7zm4 0h-2V7h2v10zm4 0h-2v-4h2v4z\"/>\n",
              "    </g>\n",
              "</svg>\n",
              "  </button>\n",
              "\n",
              "<style>\n",
              "  .colab-df-quickchart {\n",
              "      --bg-color: #E8F0FE;\n",
              "      --fill-color: #1967D2;\n",
              "      --hover-bg-color: #E2EBFA;\n",
              "      --hover-fill-color: #174EA6;\n",
              "      --disabled-fill-color: #AAA;\n",
              "      --disabled-bg-color: #DDD;\n",
              "  }\n",
              "\n",
              "  [theme=dark] .colab-df-quickchart {\n",
              "      --bg-color: #3B4455;\n",
              "      --fill-color: #D2E3FC;\n",
              "      --hover-bg-color: #434B5C;\n",
              "      --hover-fill-color: #FFFFFF;\n",
              "      --disabled-bg-color: #3B4455;\n",
              "      --disabled-fill-color: #666;\n",
              "  }\n",
              "\n",
              "  .colab-df-quickchart {\n",
              "    background-color: var(--bg-color);\n",
              "    border: none;\n",
              "    border-radius: 50%;\n",
              "    cursor: pointer;\n",
              "    display: none;\n",
              "    fill: var(--fill-color);\n",
              "    height: 32px;\n",
              "    padding: 0;\n",
              "    width: 32px;\n",
              "  }\n",
              "\n",
              "  .colab-df-quickchart:hover {\n",
              "    background-color: var(--hover-bg-color);\n",
              "    box-shadow: 0 1px 2px rgba(60, 64, 67, 0.3), 0 1px 3px 1px rgba(60, 64, 67, 0.15);\n",
              "    fill: var(--button-hover-fill-color);\n",
              "  }\n",
              "\n",
              "  .colab-df-quickchart-complete:disabled,\n",
              "  .colab-df-quickchart-complete:disabled:hover {\n",
              "    background-color: var(--disabled-bg-color);\n",
              "    fill: var(--disabled-fill-color);\n",
              "    box-shadow: none;\n",
              "  }\n",
              "\n",
              "  .colab-df-spinner {\n",
              "    border: 2px solid var(--fill-color);\n",
              "    border-color: transparent;\n",
              "    border-bottom-color: var(--fill-color);\n",
              "    animation:\n",
              "      spin 1s steps(1) infinite;\n",
              "  }\n",
              "\n",
              "  @keyframes spin {\n",
              "    0% {\n",
              "      border-color: transparent;\n",
              "      border-bottom-color: var(--fill-color);\n",
              "      border-left-color: var(--fill-color);\n",
              "    }\n",
              "    20% {\n",
              "      border-color: transparent;\n",
              "      border-left-color: var(--fill-color);\n",
              "      border-top-color: var(--fill-color);\n",
              "    }\n",
              "    30% {\n",
              "      border-color: transparent;\n",
              "      border-left-color: var(--fill-color);\n",
              "      border-top-color: var(--fill-color);\n",
              "      border-right-color: var(--fill-color);\n",
              "    }\n",
              "    40% {\n",
              "      border-color: transparent;\n",
              "      border-right-color: var(--fill-color);\n",
              "      border-top-color: var(--fill-color);\n",
              "    }\n",
              "    60% {\n",
              "      border-color: transparent;\n",
              "      border-right-color: var(--fill-color);\n",
              "    }\n",
              "    80% {\n",
              "      border-color: transparent;\n",
              "      border-right-color: var(--fill-color);\n",
              "      border-bottom-color: var(--fill-color);\n",
              "    }\n",
              "    90% {\n",
              "      border-color: transparent;\n",
              "      border-bottom-color: var(--fill-color);\n",
              "    }\n",
              "  }\n",
              "</style>\n",
              "\n",
              "  <script>\n",
              "    async function quickchart(key) {\n",
              "      const quickchartButtonEl =\n",
              "        document.querySelector('#' + key + ' button');\n",
              "      quickchartButtonEl.disabled = true;  // To prevent multiple clicks.\n",
              "      quickchartButtonEl.classList.add('colab-df-spinner');\n",
              "      try {\n",
              "        const charts = await google.colab.kernel.invokeFunction(\n",
              "            'suggestCharts', [key], {});\n",
              "      } catch (error) {\n",
              "        console.error('Error during call to suggestCharts:', error);\n",
              "      }\n",
              "      quickchartButtonEl.classList.remove('colab-df-spinner');\n",
              "      quickchartButtonEl.classList.add('colab-df-quickchart-complete');\n",
              "    }\n",
              "    (() => {\n",
              "      let quickchartButtonEl =\n",
              "        document.querySelector('#df-99ad008b-5fd2-4609-b175-bcc19e3e37dc button');\n",
              "      quickchartButtonEl.style.display =\n",
              "        google.colab.kernel.accessAllowed ? 'block' : 'none';\n",
              "    })();\n",
              "  </script>\n",
              "</div>\n",
              "\n",
              "  <div id=\"id_3e751d38-7182-41de-9347-6e1ffc957df0\">\n",
              "    <style>\n",
              "      .colab-df-generate {\n",
              "        background-color: #E8F0FE;\n",
              "        border: none;\n",
              "        border-radius: 50%;\n",
              "        cursor: pointer;\n",
              "        display: none;\n",
              "        fill: #1967D2;\n",
              "        height: 32px;\n",
              "        padding: 0 0 0 0;\n",
              "        width: 32px;\n",
              "      }\n",
              "\n",
              "      .colab-df-generate:hover {\n",
              "        background-color: #E2EBFA;\n",
              "        box-shadow: 0px 1px 2px rgba(60, 64, 67, 0.3), 0px 1px 3px 1px rgba(60, 64, 67, 0.15);\n",
              "        fill: #174EA6;\n",
              "      }\n",
              "\n",
              "      [theme=dark] .colab-df-generate {\n",
              "        background-color: #3B4455;\n",
              "        fill: #D2E3FC;\n",
              "      }\n",
              "\n",
              "      [theme=dark] .colab-df-generate:hover {\n",
              "        background-color: #434B5C;\n",
              "        box-shadow: 0px 1px 3px 1px rgba(0, 0, 0, 0.15);\n",
              "        filter: drop-shadow(0px 1px 2px rgba(0, 0, 0, 0.3));\n",
              "        fill: #FFFFFF;\n",
              "      }\n",
              "    </style>\n",
              "    <button class=\"colab-df-generate\" onclick=\"generateWithVariable('df')\"\n",
              "            title=\"Generate code using this dataframe.\"\n",
              "            style=\"display:none;\">\n",
              "\n",
              "  <svg xmlns=\"http://www.w3.org/2000/svg\" height=\"24px\"viewBox=\"0 0 24 24\"\n",
              "       width=\"24px\">\n",
              "    <path d=\"M7,19H8.4L18.45,9,17,7.55,7,17.6ZM5,21V16.75L18.45,3.32a2,2,0,0,1,2.83,0l1.4,1.43a1.91,1.91,0,0,1,.58,1.4,1.91,1.91,0,0,1-.58,1.4L9.25,21ZM18.45,9,17,7.55Zm-12,3A5.31,5.31,0,0,0,4.9,8.1,5.31,5.31,0,0,0,1,6.5,5.31,5.31,0,0,0,4.9,4.9,5.31,5.31,0,0,0,6.5,1,5.31,5.31,0,0,0,8.1,4.9,5.31,5.31,0,0,0,12,6.5,5.46,5.46,0,0,0,6.5,12Z\"/>\n",
              "  </svg>\n",
              "    </button>\n",
              "    <script>\n",
              "      (() => {\n",
              "      const buttonEl =\n",
              "        document.querySelector('#id_3e751d38-7182-41de-9347-6e1ffc957df0 button.colab-df-generate');\n",
              "      buttonEl.style.display =\n",
              "        google.colab.kernel.accessAllowed ? 'block' : 'none';\n",
              "\n",
              "      buttonEl.onclick = () => {\n",
              "        google.colab.notebook.generateWithVariable('df');\n",
              "      }\n",
              "      })();\n",
              "    </script>\n",
              "  </div>\n",
              "\n",
              "    </div>\n",
              "  </div>\n"
            ]
          },
          "metadata": {},
          "execution_count": 4
        }
      ]
    },
    {
      "cell_type": "markdown",
      "source": [
        "# Here we are removing any html tags if present in the text"
      ],
      "metadata": {
        "id": "E3742WKZw_c1"
      }
    },
    {
      "cell_type": "code",
      "source": [
        "import re\n",
        "def remove_html_tags(text):\n",
        "  pattern =re.compile('<.*?>')\n",
        "  return pattern.sub(r'',text)"
      ],
      "metadata": {
        "id": "pQ-GFi9gpQiu"
      },
      "execution_count": null,
      "outputs": []
    },
    {
      "cell_type": "code",
      "source": [
        "df['Text']= df['Text'].apply(remove_html_tags)"
      ],
      "metadata": {
        "id": "WuemM5JTxkmR"
      },
      "execution_count": null,
      "outputs": []
    },
    {
      "cell_type": "code",
      "source": [
        "df['Text']"
      ],
      "metadata": {
        "colab": {
          "base_uri": "https://localhost:8080/"
        },
        "id": "SAaVqp56xvSn",
        "outputId": "4441405f-8d51-4425-8a80-96778e371233"
      },
      "execution_count": null,
      "outputs": [
        {
          "output_type": "execute_result",
          "data": {
            "text/plain": [
              "0        originally written by marta kauffman and david...\n",
              "1                                transcribed by guineapig.\n",
              "2         central perk. (all present except rachel and ...\n",
              "3         there's nothing to tell! he's just some guy i...\n",
              "4         c'mon, you're going out with the guy! there's...\n",
              "                               ...                        \n",
              "69969     then i'm happy too. (they're still hugging - ...\n",
              "69970                                     commercial break\n",
              "69971     estelle's memorial service. joey is giving a ...\n",
              "69972     thank you all for coming. we're here today to...\n",
              "69973                                              the end\n",
              "Name: Text, Length: 69974, dtype: object"
            ]
          },
          "metadata": {},
          "execution_count": 22
        }
      ]
    },
    {
      "cell_type": "markdown",
      "source": [
        "# Removing the punctuation since it only confuse the model and take more space out there\n"
      ],
      "metadata": {
        "id": "IZ0_lHa-0owS"
      }
    },
    {
      "cell_type": "code",
      "source": [
        "import string\n",
        "string.punctuation"
      ],
      "metadata": {
        "colab": {
          "base_uri": "https://localhost:8080/",
          "height": 36
        },
        "id": "0nqE_twm00W1",
        "outputId": "928d3855-f7ee-40fc-f533-ca925329057b"
      },
      "execution_count": null,
      "outputs": [
        {
          "output_type": "execute_result",
          "data": {
            "text/plain": [
              "'!\"#$%&\\'()*+,-./:;<=>?@[\\\\]^_`{|}~'"
            ],
            "application/vnd.google.colaboratory.intrinsic+json": {
              "type": "string"
            }
          },
          "metadata": {},
          "execution_count": 36
        }
      ]
    },
    {
      "cell_type": "code",
      "source": [
        "exclude= string.punctuation"
      ],
      "metadata": {
        "id": "yBX9BE-Z1ORm"
      },
      "execution_count": null,
      "outputs": []
    },
    {
      "cell_type": "code",
      "source": [
        "def remove_punc1(text):\n",
        "  return text.translate(str.maketrans('','',exclude))"
      ],
      "metadata": {
        "id": "k7w0jFpK2Lmj"
      },
      "execution_count": null,
      "outputs": []
    },
    {
      "cell_type": "code",
      "source": [
        "\n",
        "df['Text'] =df['Text'].apply(remove_punc1)\n"
      ],
      "metadata": {
        "id": "M55UXQen3aPQ"
      },
      "execution_count": null,
      "outputs": []
    },
    {
      "cell_type": "code",
      "source": [
        "df"
      ],
      "metadata": {
        "colab": {
          "base_uri": "https://localhost:8080/",
          "height": 423
        },
        "id": "QAnjzlg031vR",
        "outputId": "b4679cbb-596b-479d-f118-d7d13f60b5d4"
      },
      "execution_count": null,
      "outputs": [
        {
          "output_type": "execute_result",
          "data": {
            "text/plain": [
              "                                                    Text  Speaker  \\\n",
              "0      originally written by marta kauffman and david...      NaN   \n",
              "1                               transcribed by guineapig      NaN   \n",
              "2        central perk all present except rachel and ross  SCENE 1   \n",
              "3       theres nothing to tell hes just some guy i wo...   MONICA   \n",
              "4       cmon youre going out with the guy theres gott...     JOEY   \n",
              "...                                                  ...      ...   \n",
              "69969   then im happy too theyre still hugging  fade out     Ross   \n",
              "69970                                   commercial break      NaN   \n",
              "69971   estelles memorial service joey is giving a sp...   [Scene   \n",
              "69972   thank you all for coming were here today to p...     Joey   \n",
              "69973                                            the end      NaN   \n",
              "\n",
              "                                                 Episode     Season     Show  \n",
              "0      Episode-01-The One Where Monica Gets a New Roo...  Season-01  Friends  \n",
              "1      Episode-01-The One Where Monica Gets a New Roo...  Season-01  Friends  \n",
              "2      Episode-01-The One Where Monica Gets a New Roo...  Season-01  Friends  \n",
              "3      Episode-01-The One Where Monica Gets a New Roo...  Season-01  Friends  \n",
              "4      Episode-01-The One Where Monica Gets a New Roo...  Season-01  Friends  \n",
              "...                                                  ...        ...      ...  \n",
              "69969              Episode-15-The One Where Estelle Dies  Season-10  Friends  \n",
              "69970              Episode-15-The One Where Estelle Dies  Season-10  Friends  \n",
              "69971              Episode-15-The One Where Estelle Dies  Season-10  Friends  \n",
              "69972              Episode-15-The One Where Estelle Dies  Season-10  Friends  \n",
              "69973              Episode-15-The One Where Estelle Dies  Season-10  Friends  \n",
              "\n",
              "[69974 rows x 5 columns]"
            ],
            "text/html": [
              "\n",
              "  <div id=\"df-1a83cec2-ad17-4c8b-b51f-888568e46dda\" class=\"colab-df-container\">\n",
              "    <div>\n",
              "<style scoped>\n",
              "    .dataframe tbody tr th:only-of-type {\n",
              "        vertical-align: middle;\n",
              "    }\n",
              "\n",
              "    .dataframe tbody tr th {\n",
              "        vertical-align: top;\n",
              "    }\n",
              "\n",
              "    .dataframe thead th {\n",
              "        text-align: right;\n",
              "    }\n",
              "</style>\n",
              "<table border=\"1\" class=\"dataframe\">\n",
              "  <thead>\n",
              "    <tr style=\"text-align: right;\">\n",
              "      <th></th>\n",
              "      <th>Text</th>\n",
              "      <th>Speaker</th>\n",
              "      <th>Episode</th>\n",
              "      <th>Season</th>\n",
              "      <th>Show</th>\n",
              "    </tr>\n",
              "  </thead>\n",
              "  <tbody>\n",
              "    <tr>\n",
              "      <th>0</th>\n",
              "      <td>originally written by marta kauffman and david...</td>\n",
              "      <td>NaN</td>\n",
              "      <td>Episode-01-The One Where Monica Gets a New Roo...</td>\n",
              "      <td>Season-01</td>\n",
              "      <td>Friends</td>\n",
              "    </tr>\n",
              "    <tr>\n",
              "      <th>1</th>\n",
              "      <td>transcribed by guineapig</td>\n",
              "      <td>NaN</td>\n",
              "      <td>Episode-01-The One Where Monica Gets a New Roo...</td>\n",
              "      <td>Season-01</td>\n",
              "      <td>Friends</td>\n",
              "    </tr>\n",
              "    <tr>\n",
              "      <th>2</th>\n",
              "      <td>central perk all present except rachel and ross</td>\n",
              "      <td>SCENE 1</td>\n",
              "      <td>Episode-01-The One Where Monica Gets a New Roo...</td>\n",
              "      <td>Season-01</td>\n",
              "      <td>Friends</td>\n",
              "    </tr>\n",
              "    <tr>\n",
              "      <th>3</th>\n",
              "      <td>theres nothing to tell hes just some guy i wo...</td>\n",
              "      <td>MONICA</td>\n",
              "      <td>Episode-01-The One Where Monica Gets a New Roo...</td>\n",
              "      <td>Season-01</td>\n",
              "      <td>Friends</td>\n",
              "    </tr>\n",
              "    <tr>\n",
              "      <th>4</th>\n",
              "      <td>cmon youre going out with the guy theres gott...</td>\n",
              "      <td>JOEY</td>\n",
              "      <td>Episode-01-The One Where Monica Gets a New Roo...</td>\n",
              "      <td>Season-01</td>\n",
              "      <td>Friends</td>\n",
              "    </tr>\n",
              "    <tr>\n",
              "      <th>...</th>\n",
              "      <td>...</td>\n",
              "      <td>...</td>\n",
              "      <td>...</td>\n",
              "      <td>...</td>\n",
              "      <td>...</td>\n",
              "    </tr>\n",
              "    <tr>\n",
              "      <th>69969</th>\n",
              "      <td>then im happy too theyre still hugging  fade out</td>\n",
              "      <td>Ross</td>\n",
              "      <td>Episode-15-The One Where Estelle Dies</td>\n",
              "      <td>Season-10</td>\n",
              "      <td>Friends</td>\n",
              "    </tr>\n",
              "    <tr>\n",
              "      <th>69970</th>\n",
              "      <td>commercial break</td>\n",
              "      <td>NaN</td>\n",
              "      <td>Episode-15-The One Where Estelle Dies</td>\n",
              "      <td>Season-10</td>\n",
              "      <td>Friends</td>\n",
              "    </tr>\n",
              "    <tr>\n",
              "      <th>69971</th>\n",
              "      <td>estelles memorial service joey is giving a sp...</td>\n",
              "      <td>[Scene</td>\n",
              "      <td>Episode-15-The One Where Estelle Dies</td>\n",
              "      <td>Season-10</td>\n",
              "      <td>Friends</td>\n",
              "    </tr>\n",
              "    <tr>\n",
              "      <th>69972</th>\n",
              "      <td>thank you all for coming were here today to p...</td>\n",
              "      <td>Joey</td>\n",
              "      <td>Episode-15-The One Where Estelle Dies</td>\n",
              "      <td>Season-10</td>\n",
              "      <td>Friends</td>\n",
              "    </tr>\n",
              "    <tr>\n",
              "      <th>69973</th>\n",
              "      <td>the end</td>\n",
              "      <td>NaN</td>\n",
              "      <td>Episode-15-The One Where Estelle Dies</td>\n",
              "      <td>Season-10</td>\n",
              "      <td>Friends</td>\n",
              "    </tr>\n",
              "  </tbody>\n",
              "</table>\n",
              "<p>69974 rows × 5 columns</p>\n",
              "</div>\n",
              "    <div class=\"colab-df-buttons\">\n",
              "\n",
              "  <div class=\"colab-df-container\">\n",
              "    <button class=\"colab-df-convert\" onclick=\"convertToInteractive('df-1a83cec2-ad17-4c8b-b51f-888568e46dda')\"\n",
              "            title=\"Convert this dataframe to an interactive table.\"\n",
              "            style=\"display:none;\">\n",
              "\n",
              "  <svg xmlns=\"http://www.w3.org/2000/svg\" height=\"24px\" viewBox=\"0 -960 960 960\">\n",
              "    <path d=\"M120-120v-720h720v720H120Zm60-500h600v-160H180v160Zm220 220h160v-160H400v160Zm0 220h160v-160H400v160ZM180-400h160v-160H180v160Zm440 0h160v-160H620v160ZM180-180h160v-160H180v160Zm440 0h160v-160H620v160Z\"/>\n",
              "  </svg>\n",
              "    </button>\n",
              "\n",
              "  <style>\n",
              "    .colab-df-container {\n",
              "      display:flex;\n",
              "      gap: 12px;\n",
              "    }\n",
              "\n",
              "    .colab-df-convert {\n",
              "      background-color: #E8F0FE;\n",
              "      border: none;\n",
              "      border-radius: 50%;\n",
              "      cursor: pointer;\n",
              "      display: none;\n",
              "      fill: #1967D2;\n",
              "      height: 32px;\n",
              "      padding: 0 0 0 0;\n",
              "      width: 32px;\n",
              "    }\n",
              "\n",
              "    .colab-df-convert:hover {\n",
              "      background-color: #E2EBFA;\n",
              "      box-shadow: 0px 1px 2px rgba(60, 64, 67, 0.3), 0px 1px 3px 1px rgba(60, 64, 67, 0.15);\n",
              "      fill: #174EA6;\n",
              "    }\n",
              "\n",
              "    .colab-df-buttons div {\n",
              "      margin-bottom: 4px;\n",
              "    }\n",
              "\n",
              "    [theme=dark] .colab-df-convert {\n",
              "      background-color: #3B4455;\n",
              "      fill: #D2E3FC;\n",
              "    }\n",
              "\n",
              "    [theme=dark] .colab-df-convert:hover {\n",
              "      background-color: #434B5C;\n",
              "      box-shadow: 0px 1px 3px 1px rgba(0, 0, 0, 0.15);\n",
              "      filter: drop-shadow(0px 1px 2px rgba(0, 0, 0, 0.3));\n",
              "      fill: #FFFFFF;\n",
              "    }\n",
              "  </style>\n",
              "\n",
              "    <script>\n",
              "      const buttonEl =\n",
              "        document.querySelector('#df-1a83cec2-ad17-4c8b-b51f-888568e46dda button.colab-df-convert');\n",
              "      buttonEl.style.display =\n",
              "        google.colab.kernel.accessAllowed ? 'block' : 'none';\n",
              "\n",
              "      async function convertToInteractive(key) {\n",
              "        const element = document.querySelector('#df-1a83cec2-ad17-4c8b-b51f-888568e46dda');\n",
              "        const dataTable =\n",
              "          await google.colab.kernel.invokeFunction('convertToInteractive',\n",
              "                                                    [key], {});\n",
              "        if (!dataTable) return;\n",
              "\n",
              "        const docLinkHtml = 'Like what you see? Visit the ' +\n",
              "          '<a target=\"_blank\" href=https://colab.research.google.com/notebooks/data_table.ipynb>data table notebook</a>'\n",
              "          + ' to learn more about interactive tables.';\n",
              "        element.innerHTML = '';\n",
              "        dataTable['output_type'] = 'display_data';\n",
              "        await google.colab.output.renderOutput(dataTable, element);\n",
              "        const docLink = document.createElement('div');\n",
              "        docLink.innerHTML = docLinkHtml;\n",
              "        element.appendChild(docLink);\n",
              "      }\n",
              "    </script>\n",
              "  </div>\n",
              "\n",
              "\n",
              "<div id=\"df-bd54f25d-f555-4966-a3be-4265cf0dbed9\">\n",
              "  <button class=\"colab-df-quickchart\" onclick=\"quickchart('df-bd54f25d-f555-4966-a3be-4265cf0dbed9')\"\n",
              "            title=\"Suggest charts\"\n",
              "            style=\"display:none;\">\n",
              "\n",
              "<svg xmlns=\"http://www.w3.org/2000/svg\" height=\"24px\"viewBox=\"0 0 24 24\"\n",
              "     width=\"24px\">\n",
              "    <g>\n",
              "        <path d=\"M19 3H5c-1.1 0-2 .9-2 2v14c0 1.1.9 2 2 2h14c1.1 0 2-.9 2-2V5c0-1.1-.9-2-2-2zM9 17H7v-7h2v7zm4 0h-2V7h2v10zm4 0h-2v-4h2v4z\"/>\n",
              "    </g>\n",
              "</svg>\n",
              "  </button>\n",
              "\n",
              "<style>\n",
              "  .colab-df-quickchart {\n",
              "      --bg-color: #E8F0FE;\n",
              "      --fill-color: #1967D2;\n",
              "      --hover-bg-color: #E2EBFA;\n",
              "      --hover-fill-color: #174EA6;\n",
              "      --disabled-fill-color: #AAA;\n",
              "      --disabled-bg-color: #DDD;\n",
              "  }\n",
              "\n",
              "  [theme=dark] .colab-df-quickchart {\n",
              "      --bg-color: #3B4455;\n",
              "      --fill-color: #D2E3FC;\n",
              "      --hover-bg-color: #434B5C;\n",
              "      --hover-fill-color: #FFFFFF;\n",
              "      --disabled-bg-color: #3B4455;\n",
              "      --disabled-fill-color: #666;\n",
              "  }\n",
              "\n",
              "  .colab-df-quickchart {\n",
              "    background-color: var(--bg-color);\n",
              "    border: none;\n",
              "    border-radius: 50%;\n",
              "    cursor: pointer;\n",
              "    display: none;\n",
              "    fill: var(--fill-color);\n",
              "    height: 32px;\n",
              "    padding: 0;\n",
              "    width: 32px;\n",
              "  }\n",
              "\n",
              "  .colab-df-quickchart:hover {\n",
              "    background-color: var(--hover-bg-color);\n",
              "    box-shadow: 0 1px 2px rgba(60, 64, 67, 0.3), 0 1px 3px 1px rgba(60, 64, 67, 0.15);\n",
              "    fill: var(--button-hover-fill-color);\n",
              "  }\n",
              "\n",
              "  .colab-df-quickchart-complete:disabled,\n",
              "  .colab-df-quickchart-complete:disabled:hover {\n",
              "    background-color: var(--disabled-bg-color);\n",
              "    fill: var(--disabled-fill-color);\n",
              "    box-shadow: none;\n",
              "  }\n",
              "\n",
              "  .colab-df-spinner {\n",
              "    border: 2px solid var(--fill-color);\n",
              "    border-color: transparent;\n",
              "    border-bottom-color: var(--fill-color);\n",
              "    animation:\n",
              "      spin 1s steps(1) infinite;\n",
              "  }\n",
              "\n",
              "  @keyframes spin {\n",
              "    0% {\n",
              "      border-color: transparent;\n",
              "      border-bottom-color: var(--fill-color);\n",
              "      border-left-color: var(--fill-color);\n",
              "    }\n",
              "    20% {\n",
              "      border-color: transparent;\n",
              "      border-left-color: var(--fill-color);\n",
              "      border-top-color: var(--fill-color);\n",
              "    }\n",
              "    30% {\n",
              "      border-color: transparent;\n",
              "      border-left-color: var(--fill-color);\n",
              "      border-top-color: var(--fill-color);\n",
              "      border-right-color: var(--fill-color);\n",
              "    }\n",
              "    40% {\n",
              "      border-color: transparent;\n",
              "      border-right-color: var(--fill-color);\n",
              "      border-top-color: var(--fill-color);\n",
              "    }\n",
              "    60% {\n",
              "      border-color: transparent;\n",
              "      border-right-color: var(--fill-color);\n",
              "    }\n",
              "    80% {\n",
              "      border-color: transparent;\n",
              "      border-right-color: var(--fill-color);\n",
              "      border-bottom-color: var(--fill-color);\n",
              "    }\n",
              "    90% {\n",
              "      border-color: transparent;\n",
              "      border-bottom-color: var(--fill-color);\n",
              "    }\n",
              "  }\n",
              "</style>\n",
              "\n",
              "  <script>\n",
              "    async function quickchart(key) {\n",
              "      const quickchartButtonEl =\n",
              "        document.querySelector('#' + key + ' button');\n",
              "      quickchartButtonEl.disabled = true;  // To prevent multiple clicks.\n",
              "      quickchartButtonEl.classList.add('colab-df-spinner');\n",
              "      try {\n",
              "        const charts = await google.colab.kernel.invokeFunction(\n",
              "            'suggestCharts', [key], {});\n",
              "      } catch (error) {\n",
              "        console.error('Error during call to suggestCharts:', error);\n",
              "      }\n",
              "      quickchartButtonEl.classList.remove('colab-df-spinner');\n",
              "      quickchartButtonEl.classList.add('colab-df-quickchart-complete');\n",
              "    }\n",
              "    (() => {\n",
              "      let quickchartButtonEl =\n",
              "        document.querySelector('#df-bd54f25d-f555-4966-a3be-4265cf0dbed9 button');\n",
              "      quickchartButtonEl.style.display =\n",
              "        google.colab.kernel.accessAllowed ? 'block' : 'none';\n",
              "    })();\n",
              "  </script>\n",
              "</div>\n",
              "\n",
              "  <div id=\"id_95df68b8-3d49-4876-b500-7ae024010a79\">\n",
              "    <style>\n",
              "      .colab-df-generate {\n",
              "        background-color: #E8F0FE;\n",
              "        border: none;\n",
              "        border-radius: 50%;\n",
              "        cursor: pointer;\n",
              "        display: none;\n",
              "        fill: #1967D2;\n",
              "        height: 32px;\n",
              "        padding: 0 0 0 0;\n",
              "        width: 32px;\n",
              "      }\n",
              "\n",
              "      .colab-df-generate:hover {\n",
              "        background-color: #E2EBFA;\n",
              "        box-shadow: 0px 1px 2px rgba(60, 64, 67, 0.3), 0px 1px 3px 1px rgba(60, 64, 67, 0.15);\n",
              "        fill: #174EA6;\n",
              "      }\n",
              "\n",
              "      [theme=dark] .colab-df-generate {\n",
              "        background-color: #3B4455;\n",
              "        fill: #D2E3FC;\n",
              "      }\n",
              "\n",
              "      [theme=dark] .colab-df-generate:hover {\n",
              "        background-color: #434B5C;\n",
              "        box-shadow: 0px 1px 3px 1px rgba(0, 0, 0, 0.15);\n",
              "        filter: drop-shadow(0px 1px 2px rgba(0, 0, 0, 0.3));\n",
              "        fill: #FFFFFF;\n",
              "      }\n",
              "    </style>\n",
              "    <button class=\"colab-df-generate\" onclick=\"generateWithVariable('df')\"\n",
              "            title=\"Generate code using this dataframe.\"\n",
              "            style=\"display:none;\">\n",
              "\n",
              "  <svg xmlns=\"http://www.w3.org/2000/svg\" height=\"24px\"viewBox=\"0 0 24 24\"\n",
              "       width=\"24px\">\n",
              "    <path d=\"M7,19H8.4L18.45,9,17,7.55,7,17.6ZM5,21V16.75L18.45,3.32a2,2,0,0,1,2.83,0l1.4,1.43a1.91,1.91,0,0,1,.58,1.4,1.91,1.91,0,0,1-.58,1.4L9.25,21ZM18.45,9,17,7.55Zm-12,3A5.31,5.31,0,0,0,4.9,8.1,5.31,5.31,0,0,0,1,6.5,5.31,5.31,0,0,0,4.9,4.9,5.31,5.31,0,0,0,6.5,1,5.31,5.31,0,0,0,8.1,4.9,5.31,5.31,0,0,0,12,6.5,5.46,5.46,0,0,0,6.5,12Z\"/>\n",
              "  </svg>\n",
              "    </button>\n",
              "    <script>\n",
              "      (() => {\n",
              "      const buttonEl =\n",
              "        document.querySelector('#id_95df68b8-3d49-4876-b500-7ae024010a79 button.colab-df-generate');\n",
              "      buttonEl.style.display =\n",
              "        google.colab.kernel.accessAllowed ? 'block' : 'none';\n",
              "\n",
              "      buttonEl.onclick = () => {\n",
              "        google.colab.notebook.generateWithVariable('df');\n",
              "      }\n",
              "      })();\n",
              "    </script>\n",
              "  </div>\n",
              "\n",
              "    </div>\n",
              "  </div>\n"
            ]
          },
          "metadata": {},
          "execution_count": 41
        }
      ]
    },
    {
      "cell_type": "markdown",
      "source": [
        "# Chat Word treatment"
      ],
      "metadata": {
        "id": "dj95vFGi5TV9"
      }
    },
    {
      "cell_type": "markdown",
      "source": [
        "##  Here we convert shortform used in the chat to normal form, if it need do google and do it"
      ],
      "metadata": {
        "id": "pvOG7M6j6DGf"
      }
    },
    {
      "cell_type": "markdown",
      "source": [
        "# Spelling correction"
      ],
      "metadata": {
        "id": "j2VQ2x4d6eJI"
      }
    },
    {
      "cell_type": "markdown",
      "source": [
        "##  Do some googling when it is needed!"
      ],
      "metadata": {
        "id": "cI1jyt2v7Mpx"
      }
    },
    {
      "cell_type": "markdown",
      "source": [
        "# Removing stop words, which are i, am, are, the and soon which doesnot have much meaning expect the formation of the sentence but it is not removed in the case of part of speech formation method so be caseful where to used it where not to use it."
      ],
      "metadata": {
        "id": "QdmRIrFe7kC7"
      }
    },
    {
      "cell_type": "code",
      "source": [
        "import nltk\n",
        "# Download the NLTK stopwords resource\n",
        "nltk.download('stopwords')\n",
        "from nltk.corpus import stopwords"
      ],
      "metadata": {
        "colab": {
          "base_uri": "https://localhost:8080/"
        },
        "id": "ZBiPMpcZ7--K",
        "outputId": "d30b250a-44de-454b-8434-e3921e28ea12"
      },
      "execution_count": null,
      "outputs": [
        {
          "output_type": "stream",
          "name": "stderr",
          "text": [
            "[nltk_data] Downloading package stopwords to /root/nltk_data...\n",
            "[nltk_data]   Unzipping corpora/stopwords.zip.\n"
          ]
        }
      ]
    },
    {
      "cell_type": "code",
      "source": [
        "stopwords.words('english')"
      ],
      "metadata": {
        "colab": {
          "base_uri": "https://localhost:8080/"
        },
        "id": "K1e11f728IAE",
        "outputId": "6a49a60d-37b8-4f59-94c9-39ac375d9a81"
      },
      "execution_count": null,
      "outputs": [
        {
          "output_type": "execute_result",
          "data": {
            "text/plain": [
              "['i',\n",
              " 'me',\n",
              " 'my',\n",
              " 'myself',\n",
              " 'we',\n",
              " 'our',\n",
              " 'ours',\n",
              " 'ourselves',\n",
              " 'you',\n",
              " \"you're\",\n",
              " \"you've\",\n",
              " \"you'll\",\n",
              " \"you'd\",\n",
              " 'your',\n",
              " 'yours',\n",
              " 'yourself',\n",
              " 'yourselves',\n",
              " 'he',\n",
              " 'him',\n",
              " 'his',\n",
              " 'himself',\n",
              " 'she',\n",
              " \"she's\",\n",
              " 'her',\n",
              " 'hers',\n",
              " 'herself',\n",
              " 'it',\n",
              " \"it's\",\n",
              " 'its',\n",
              " 'itself',\n",
              " 'they',\n",
              " 'them',\n",
              " 'their',\n",
              " 'theirs',\n",
              " 'themselves',\n",
              " 'what',\n",
              " 'which',\n",
              " 'who',\n",
              " 'whom',\n",
              " 'this',\n",
              " 'that',\n",
              " \"that'll\",\n",
              " 'these',\n",
              " 'those',\n",
              " 'am',\n",
              " 'is',\n",
              " 'are',\n",
              " 'was',\n",
              " 'were',\n",
              " 'be',\n",
              " 'been',\n",
              " 'being',\n",
              " 'have',\n",
              " 'has',\n",
              " 'had',\n",
              " 'having',\n",
              " 'do',\n",
              " 'does',\n",
              " 'did',\n",
              " 'doing',\n",
              " 'a',\n",
              " 'an',\n",
              " 'the',\n",
              " 'and',\n",
              " 'but',\n",
              " 'if',\n",
              " 'or',\n",
              " 'because',\n",
              " 'as',\n",
              " 'until',\n",
              " 'while',\n",
              " 'of',\n",
              " 'at',\n",
              " 'by',\n",
              " 'for',\n",
              " 'with',\n",
              " 'about',\n",
              " 'against',\n",
              " 'between',\n",
              " 'into',\n",
              " 'through',\n",
              " 'during',\n",
              " 'before',\n",
              " 'after',\n",
              " 'above',\n",
              " 'below',\n",
              " 'to',\n",
              " 'from',\n",
              " 'up',\n",
              " 'down',\n",
              " 'in',\n",
              " 'out',\n",
              " 'on',\n",
              " 'off',\n",
              " 'over',\n",
              " 'under',\n",
              " 'again',\n",
              " 'further',\n",
              " 'then',\n",
              " 'once',\n",
              " 'here',\n",
              " 'there',\n",
              " 'when',\n",
              " 'where',\n",
              " 'why',\n",
              " 'how',\n",
              " 'all',\n",
              " 'any',\n",
              " 'both',\n",
              " 'each',\n",
              " 'few',\n",
              " 'more',\n",
              " 'most',\n",
              " 'other',\n",
              " 'some',\n",
              " 'such',\n",
              " 'no',\n",
              " 'nor',\n",
              " 'not',\n",
              " 'only',\n",
              " 'own',\n",
              " 'same',\n",
              " 'so',\n",
              " 'than',\n",
              " 'too',\n",
              " 'very',\n",
              " 's',\n",
              " 't',\n",
              " 'can',\n",
              " 'will',\n",
              " 'just',\n",
              " 'don',\n",
              " \"don't\",\n",
              " 'should',\n",
              " \"should've\",\n",
              " 'now',\n",
              " 'd',\n",
              " 'll',\n",
              " 'm',\n",
              " 'o',\n",
              " 're',\n",
              " 've',\n",
              " 'y',\n",
              " 'ain',\n",
              " 'aren',\n",
              " \"aren't\",\n",
              " 'couldn',\n",
              " \"couldn't\",\n",
              " 'didn',\n",
              " \"didn't\",\n",
              " 'doesn',\n",
              " \"doesn't\",\n",
              " 'hadn',\n",
              " \"hadn't\",\n",
              " 'hasn',\n",
              " \"hasn't\",\n",
              " 'haven',\n",
              " \"haven't\",\n",
              " 'isn',\n",
              " \"isn't\",\n",
              " 'ma',\n",
              " 'mightn',\n",
              " \"mightn't\",\n",
              " 'mustn',\n",
              " \"mustn't\",\n",
              " 'needn',\n",
              " \"needn't\",\n",
              " 'shan',\n",
              " \"shan't\",\n",
              " 'shouldn',\n",
              " \"shouldn't\",\n",
              " 'wasn',\n",
              " \"wasn't\",\n",
              " 'weren',\n",
              " \"weren't\",\n",
              " 'won',\n",
              " \"won't\",\n",
              " 'wouldn',\n",
              " \"wouldn't\"]"
            ]
          },
          "metadata": {},
          "execution_count": 52
        }
      ]
    },
    {
      "cell_type": "code",
      "source": [
        "def remove_stopwords(text):\n",
        "  new_text=[]\n",
        "\n",
        "  for word in text.split():\n",
        "    if word in stopwords.words('english'):\n",
        "      new_text.append('')\n",
        "    else:\n",
        "      new_text.append(word)\n",
        "  x= new_text[:]\n",
        "  new_text.clear()\n",
        "  return \" \". join(x)"
      ],
      "metadata": {
        "id": "NFhmAIfL8MbC"
      },
      "execution_count": null,
      "outputs": []
    },
    {
      "cell_type": "code",
      "source": [
        "df['Text']= df['Text'].apply(remove_stopwords)\n",
        "df['Text']"
      ],
      "metadata": {
        "colab": {
          "base_uri": "https://localhost:8080/"
        },
        "id": "nv7w71wY9g3a",
        "outputId": "b97b6cf6-8d61-494b-c503-71d6bdb309b3"
      },
      "execution_count": null,
      "outputs": [
        {
          "output_type": "execute_result",
          "data": {
            "text/plain": [
              "0          originally written  marta kauffman  david crane\n",
              "1                                   transcribed  guineapig\n",
              "2                central perk  present except rachel  ross\n",
              "3                    theres nothing  tell hes   guy  work \n",
              "4        cmon youre going    guy theres gotta  somethin...\n",
              "                               ...                        \n",
              "69969                 im happy  theyre still hugging fade \n",
              "69970                                     commercial break\n",
              "69971    estelles memorial service joey  giving  speech...\n",
              "69972    thank    coming   today  pay respects   wonder...\n",
              "69973                                                  end\n",
              "Name: Text, Length: 69974, dtype: object"
            ]
          },
          "metadata": {},
          "execution_count": 54
        }
      ]
    },
    {
      "cell_type": "markdown",
      "source": [
        "# Working with the emoji, we can remove it or replace it's meaning in the form of the text"
      ],
      "metadata": {
        "id": "ydGX6id0-vKJ"
      }
    },
    {
      "cell_type": "code",
      "source": [
        "import re\n",
        "\n",
        "def remove_emoji(text):\n",
        "  emoji_pattern = re.compile(\"[\"\n",
        "   u\"\\U0001F600-\\U0001F64F\"  # emoticons\n",
        "    u\"\\U0001F300-\\U0001F5FF\"  # symbols & pictographs\n",
        "      u\"\\U0001F680-\\U0001F6FF\"  # transport & map symbols\n",
        "      u\"\\U0001F700-\\U0001F77F\"  # alchemical symbols\n",
        "      u\"\\U0001F780-\\U0001F7FF\"  # Geometric Shapes Extended\n",
        "      u\"\\U0001F800-\\U0001F8FF\"  # Supplemental Arrows-C\n",
        "      u\"\\U0001F900-\\U0001F9FF\"  # Supplemental Symbols and Pictographs\n",
        "\n",
        "      \"]+\", flags=re.UNICODE)\n",
        "  return emoji_pattern.sub(r'', text)\n",
        "\n"
      ],
      "metadata": {
        "id": "KhQoJGxE_IHX"
      },
      "execution_count": null,
      "outputs": []
    },
    {
      "cell_type": "code",
      "source": [
        "\n",
        "df['Text']= df['Text'].apply(remove_emoji)\n",
        "df['Text']"
      ],
      "metadata": {
        "colab": {
          "base_uri": "https://localhost:8080/"
        },
        "id": "QzbW6Gy0_WRA",
        "outputId": "5758dc25-d2ff-4857-c3b7-5e7645570c2d"
      },
      "execution_count": null,
      "outputs": [
        {
          "output_type": "execute_result",
          "data": {
            "text/plain": [
              "0          originally written  marta kauffman  david crane\n",
              "1                                   transcribed  guineapig\n",
              "2                central perk  present except rachel  ross\n",
              "3                    theres nothing  tell hes   guy  work \n",
              "4        cmon youre going    guy theres gotta  somethin...\n",
              "                               ...                        \n",
              "69969                 im happy  theyre still hugging fade \n",
              "69970                                     commercial break\n",
              "69971    estelles memorial service joey  giving  speech...\n",
              "69972    thank    coming   today  pay respects   wonder...\n",
              "69973                                                  end\n",
              "Name: Text, Length: 69974, dtype: object"
            ]
          },
          "metadata": {},
          "execution_count": 59
        }
      ]
    },
    {
      "cell_type": "code",
      "source": [
        "import emoji\n",
        "print(emoji.demojize('Python is 👍'))\n",
        "\n"
      ],
      "metadata": {
        "colab": {
          "base_uri": "https://localhost:8080/"
        },
        "id": "vLTUzdEPACVz",
        "outputId": "019013e7-dd5f-41e9-d06e-0461f1dfb1a5"
      },
      "execution_count": null,
      "outputs": [
        {
          "output_type": "stream",
          "name": "stdout",
          "text": [
            "Python is :thumbs_up:\n"
          ]
        }
      ]
    },
    {
      "cell_type": "markdown",
      "source": [
        "# Tokenization is the process of breaking down the sentences into words, or maybe paragraph into the sentences."
      ],
      "metadata": {
        "id": "V5IHrILLJW0M"
      }
    },
    {
      "cell_type": "markdown",
      "source": [
        "## We can do tokenization by simple using python split function"
      ],
      "metadata": {
        "id": "rOzsBxCJJqIS"
      }
    },
    {
      "cell_type": "code",
      "source": [
        "sent='Here is the feeling of my heart baby'"
      ],
      "metadata": {
        "id": "1i7mXZyFAM3r"
      },
      "execution_count": null,
      "outputs": []
    },
    {
      "cell_type": "code",
      "source": [
        "sent.split()"
      ],
      "metadata": {
        "colab": {
          "base_uri": "https://localhost:8080/"
        },
        "id": "ecDfzUmaJ5uB",
        "outputId": "26d4a962-a8ab-488c-db90-cc82202fe745"
      },
      "execution_count": null,
      "outputs": [
        {
          "output_type": "execute_result",
          "data": {
            "text/plain": [
              "['Here', 'is', 'the', 'feeling', 'of', 'my', 'heart', 'baby']"
            ]
          },
          "metadata": {},
          "execution_count": 68
        }
      ]
    },
    {
      "cell_type": "code",
      "source": [
        "sent1='My am feeling great taking with you. You are such an amazing human begin. I miss you alot'\n"
      ],
      "metadata": {
        "id": "hLVKhECBJ84y"
      },
      "execution_count": null,
      "outputs": []
    },
    {
      "cell_type": "code",
      "source": [
        "sent1.split('.')"
      ],
      "metadata": {
        "colab": {
          "base_uri": "https://localhost:8080/"
        },
        "id": "KgRX8wyZKKth",
        "outputId": "049e8a95-e850-49e3-822a-e57c24abbc15"
      },
      "execution_count": null,
      "outputs": [
        {
          "output_type": "execute_result",
          "data": {
            "text/plain": [
              "['My am feeling great taking with you',\n",
              " ' You are such an amazing human begin',\n",
              " ' I miss you alot']"
            ]
          },
          "metadata": {},
          "execution_count": 71
        }
      ]
    },
    {
      "cell_type": "markdown",
      "source": [
        "## split function is no very appropriate for the tokenization, we can use regular expression too for the tokenization, which is best then split function but not good enough so, we can use libraries like NLTK for tokenization"
      ],
      "metadata": {
        "id": "eeythSEkKjK6"
      }
    },
    {
      "cell_type": "code",
      "source": [
        "from nltk.tokenize import word_tokenize,sent_tokenize\n"
      ],
      "metadata": {
        "id": "EMUr2rqoLpOx"
      },
      "execution_count": null,
      "outputs": []
    },
    {
      "cell_type": "markdown",
      "source": [
        "from nltk.tokenize import word_tokenize, sent_tokenize"
      ],
      "metadata": {
        "id": "ulpRzcxoLL1T"
      }
    },
    {
      "cell_type": "code",
      "source": [
        "sents='Here we go again!'\n",
        "word_tokenize(sents)"
      ],
      "metadata": {
        "colab": {
          "base_uri": "https://localhost:8080/"
        },
        "id": "_lBJ_O65LZ2C",
        "outputId": "4f3f7f71-928e-4e3c-9e16-807de31fb1c6"
      },
      "execution_count": null,
      "outputs": [
        {
          "output_type": "execute_result",
          "data": {
            "text/plain": [
              "['Here', 'we', 'go', 'again', '!']"
            ]
          },
          "metadata": {},
          "execution_count": 78
        }
      ]
    },
    {
      "cell_type": "code",
      "source": [
        "sent3=\"We're here to help! mail us at joyous070@gmail.com\"\n",
        "sent4='A 7km ride cost $8'\n",
        "word_tokenize(sent3)\n",
        "#word_tokenize(sent4)"
      ],
      "metadata": {
        "colab": {
          "base_uri": "https://localhost:8080/"
        },
        "id": "Mc51x4ccLgRp",
        "outputId": "02d12824-0a43-4126-b91d-e51dd56e5d1f"
      },
      "execution_count": null,
      "outputs": [
        {
          "output_type": "execute_result",
          "data": {
            "text/plain": [
              "['We',\n",
              " \"'re\",\n",
              " 'here',\n",
              " 'to',\n",
              " 'help',\n",
              " '!',\n",
              " 'mail',\n",
              " 'us',\n",
              " 'at',\n",
              " 'joyous070',\n",
              " '@',\n",
              " 'gmail.com']"
            ]
          },
          "metadata": {},
          "execution_count": 80
        }
      ]
    },
    {
      "cell_type": "markdown",
      "source": [
        "## Here is some problem with NLTK libraries too so we use Spacy libraries"
      ],
      "metadata": {
        "id": "mpc4_IkTMS55"
      }
    },
    {
      "cell_type": "code",
      "source": [
        "import spacy\n",
        "nlp = spacy.load('en_core_web_sm')\n"
      ],
      "metadata": {
        "id": "wrs1aC-QMelG"
      },
      "execution_count": null,
      "outputs": []
    },
    {
      "cell_type": "code",
      "source": [
        "doc= nlp(sent3)"
      ],
      "metadata": {
        "id": "6uKpPSlFNP2O"
      },
      "execution_count": null,
      "outputs": []
    },
    {
      "cell_type": "code",
      "source": [
        "for token in doc:\n",
        "  print(token)"
      ],
      "metadata": {
        "colab": {
          "base_uri": "https://localhost:8080/"
        },
        "id": "VacLPOo1NYi1",
        "outputId": "9ad84798-f004-4baa-9d22-2a5e4ed663b0"
      },
      "execution_count": null,
      "outputs": [
        {
          "output_type": "stream",
          "name": "stdout",
          "text": [
            "We\n",
            "'re\n",
            "here\n",
            "to\n",
            "help\n",
            "!\n",
            "mail\n",
            "us\n",
            "at\n",
            "joyous070@gmail.com\n"
          ]
        }
      ]
    },
    {
      "cell_type": "markdown",
      "source": [
        "# Stemming is process of reducing inflection in words; inflection is the modification of the word to different form"
      ],
      "metadata": {
        "id": "FWDupthrQMzZ"
      }
    },
    {
      "cell_type": "code",
      "source": [
        "from nltk.stem.porter import PorterStemmer"
      ],
      "metadata": {
        "id": "SUXLJQOeQkzs"
      },
      "execution_count": null,
      "outputs": []
    },
    {
      "cell_type": "code",
      "source": [
        "ps = PorterStemmer()\n",
        "def stem_words(text):\n",
        "  return \" \".join([ps.stem(word) for word in text.split()])"
      ],
      "metadata": {
        "id": "UxyewyjDRPgC"
      },
      "execution_count": null,
      "outputs": []
    },
    {
      "cell_type": "code",
      "source": [
        "sample= 'walk walks walking walked'\n",
        "stem_words(sample)"
      ],
      "metadata": {
        "colab": {
          "base_uri": "https://localhost:8080/",
          "height": 36
        },
        "id": "sDmCI0WVRTmG",
        "outputId": "c9a370c4-ee24-4a33-bc2c-f256757fe156"
      },
      "execution_count": null,
      "outputs": [
        {
          "output_type": "execute_result",
          "data": {
            "text/plain": [
              "'walk walk walk walk'"
            ],
            "application/vnd.google.colaboratory.intrinsic+json": {
              "type": "string"
            }
          },
          "metadata": {},
          "execution_count": 88
        }
      ]
    },
    {
      "cell_type": "markdown",
      "source": [
        "# Lemmatization is same as Stemming but it will always end up with the valid stem of the words. But it is slower then stemming"
      ],
      "metadata": {
        "id": "MR6WBTD2R_uv"
      }
    },
    {
      "cell_type": "code",
      "source": [
        "nltk.download('wordnet')"
      ],
      "metadata": {
        "colab": {
          "base_uri": "https://localhost:8080/"
        },
        "id": "2EUbyeDnSONB",
        "outputId": "3b490759-bc8a-41ac-fc16-82e3d7887afd"
      },
      "execution_count": null,
      "outputs": [
        {
          "output_type": "stream",
          "name": "stderr",
          "text": [
            "[nltk_data] Downloading package wordnet to /root/nltk_data...\n",
            "[nltk_data]   Package wordnet is already up-to-date!\n"
          ]
        },
        {
          "output_type": "execute_result",
          "data": {
            "text/plain": [
              "True"
            ]
          },
          "metadata": {},
          "execution_count": 96
        }
      ]
    },
    {
      "cell_type": "code",
      "source": [
        "import nltk\n",
        "from nltk.stem import WordNetLemmatizer\n",
        "\n",
        "wordnet_lemmatizer = WordNetLemmatizer()\n",
        "\n",
        "sentence = \"He was running and eating at the same time. He has a bad habit of swimming after playing long hours in the Sun.\"\n",
        "punctuations = \"?:!.,;\"\n",
        "sentence_words = nltk.word_tokenize(sentence)\n",
        "\n",
        "# Create a new list to store lemmatized words\n",
        "lemmatized_words = []\n",
        "\n",
        "for word in sentence_words:\n",
        "    if word not in punctuations:\n",
        "        lemmatized_words.append(wordnet_lemmatizer.lemmatize(word, pos='v'))\n",
        "\n",
        "print(\"{0:20} {1:20}\".format(\"Word\", \"Lemma\"))\n",
        "for word, lemma in zip(sentence_words, lemmatized_words):\n",
        "    print(\"{0:20} {1:20}\".format(word, lemma))\n"
      ],
      "metadata": {
        "colab": {
          "base_uri": "https://localhost:8080/"
        },
        "id": "30jUAOgbTe9n",
        "outputId": "50a62465-86fb-4248-bc31-2e3466efec36"
      },
      "execution_count": null,
      "outputs": [
        {
          "output_type": "stream",
          "name": "stdout",
          "text": [
            "Word                 Lemma               \n",
            "He                   He                  \n",
            "was                  be                  \n",
            "running              run                 \n",
            "and                  and                 \n",
            "eating               eat                 \n",
            "at                   at                  \n",
            "the                  the                 \n",
            "same                 same                \n",
            "time                 time                \n",
            ".                    He                  \n",
            "He                   have                \n",
            "has                  a                   \n",
            "a                    bad                 \n",
            "bad                  habit               \n",
            "habit                of                  \n",
            "of                   swim                \n",
            "swimming             after               \n",
            "after                play                \n",
            "playing              long                \n",
            "long                 hours               \n",
            "hours                in                  \n",
            "in                   the                 \n",
            "the                  Sun                 \n"
          ]
        }
      ]
    },
    {
      "cell_type": "code",
      "source": [],
      "metadata": {
        "id": "E8mUABj8UP5R"
      },
      "execution_count": null,
      "outputs": []
    }
  ]
}